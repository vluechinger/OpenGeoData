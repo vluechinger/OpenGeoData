{
 "cells": [
  {
   "cell_type": "markdown",
   "metadata": {},
   "source": [
    "# Uebung 2\n",
    "\n",
    "## Aufgabe 1\n",
    "\n",
    "a) Generieren Sie eine Liste von allen Download-URLs für 10cm SWISSIMAGE Bilder **im Kanton Bern**. (nur die Liste, kein Download!)<br/>\n",
    "(für die Abfrage soll das generalisierte Polygon des Kanton Bern vom BFS verwendet werden)\n",
    "\n",
    "b) Wieviele Bilder sind das ?\n",
    "\n",
    "c) Wieviel Disk Speicher würde bei einem Download aller Files benötigt ?\n"
   ]
  },
  {
   "cell_type": "code",
   "execution_count": 1,
   "metadata": {},
   "outputs": [],
   "source": [
    "import geopandas as gpd\n",
    "import shapely\n",
    "import geopandas_stac as stac\n",
    "import urllib.request\n",
    "\n",
    "\n",
    "stac.getCollectionList(cache=True)\n",
    "df = stac.getAssets(\"ch.swisstopo.swissimage-dop10\")\n",
    "df_swissimage_10cm = df.query('gsd == \"0.1\"')\n",
    "\n",
    "total_bilder = len(df_swissimage_10cm)\n",
    "\n",
    "kantone = gpd.read_file(\"daten/gemeindegrenzen/ggg_2021-LV95/shp/g1k21.shp\", encoding=\"utf-8\")\n",
    "kantone = kantone.to_crs(\"EPSG:4326\")\n",
    "\n",
    "# Bern:\n",
    "poly_gpd = kantone.query('KTNR == 2')\n",
    "\n",
    "# Spatial join:\n",
    "df_swissimage_bern = gpd.sjoin(df_swissimage_10cm, poly_gpd, op='intersects')\n",
    "urls = stac.getUrlList(df_swissimage_bern)"
   ]
  },
  {
   "cell_type": "code",
   "execution_count": 2,
   "metadata": {},
   "outputs": [
    {
     "name": "stdout",
     "output_type": "stream",
     "text": [
      "6563 Bilder von 49488\n"
     ]
    }
   ],
   "source": [
    "print(len(urls), \"Bilder von\", total_bilder)"
   ]
  },
  {
   "cell_type": "code",
   "execution_count": 3,
   "metadata": {},
   "outputs": [
    {
     "name": "stdout",
     "output_type": "stream",
     "text": [
      " 50   "
     ]
    }
   ],
   "source": [
    "total = 0\n",
    "cnt = 0\n",
    "for url in urls[0:50]:\n",
    "    file = urllib.request.urlopen(url)\n",
    "    total = total + file.length\n",
    "    cnt+=1\n",
    "    print(f\"\\r {cnt}   \", end=\"\")\n",
    "\n",
    "ca_datenmenge = total/50 * len(urls)"
   ]
  },
  {
   "cell_type": "code",
   "execution_count": 4,
   "metadata": {},
   "outputs": [
    {
     "name": "stdout",
     "output_type": "stream",
     "text": [
      "435147.5141500664 MB\n",
      "424.94874428717424 GB\n"
     ]
    }
   ],
   "source": [
    "print(ca_datenmenge/1024/1024, \"MB\")\n",
    "print(ca_datenmenge/1024/1024/1024, \"GB\")"
   ]
  },
  {
   "cell_type": "markdown",
   "metadata": {},
   "source": [
    "## Aufgabe 2\n",
    "\n",
    "Bestimmen Sie die URL der swissALTI3D 0.5cm an einer beliebigen Position (WGS84) in der Schweiz. (nur URL, kein Download)"
   ]
  },
  {
   "cell_type": "code",
   "execution_count": 5,
   "metadata": {},
   "outputs": [],
   "source": [
    "import geopandas as gpd\n",
    "import shapely\n",
    "import geopandas_stac as stac\n",
    "\n",
    "\n",
    "def getSwissalti3d_50cm_pt(lng, lat):\n",
    "    df = stac.getAssets(\"ch.swisstopo.swissalti3d\")\n",
    "\n",
    "    df_geotiff = df.query('type == \"image/tiff; application=geotiff; profile=cloud-optimized\"')\n",
    "    df_geotiff = df_geotiff.query(\"gsd == 0.5\")\n",
    "\n",
    "    point = shapely.geometry.Point(lng, lat)\n",
    "    dfpoint = gpd.GeoDataFrame(geometry=gpd.GeoSeries(point, crs=\"epsg:4326\"))\n",
    "\n",
    "    df_result = gpd.sjoin(df_geotiff, dfpoint, op='contains')\n",
    "\n",
    "    return stac.getUrlList(df_result)\n"
   ]
  },
  {
   "cell_type": "code",
   "execution_count": 6,
   "metadata": {},
   "outputs": [
    {
     "name": "stdout",
     "output_type": "stream",
     "text": [
      "https://data.geo.admin.ch/ch.swisstopo.swissalti3d/swissalti3d_2019_2643-1157/swissalti3d_2019_2643-1157_0.5_2056_5728.tif\n"
     ]
    }
   ],
   "source": [
    "result = getSwissalti3d_50cm_pt(8.00848562097163, 46.56820123946869)\n",
    "if len(result)>0:\n",
    "    print(result[0])\n",
    "else:\n",
    "    print(\"kein Datensatz gefunden!\")"
   ]
  }
 ],
 "metadata": {
  "kernelspec": {
   "display_name": "GeoPython",
   "language": "python",
   "name": "geopython"
  },
  "language_info": {
   "codemirror_mode": {
    "name": "ipython",
    "version": 3
   },
   "file_extension": ".py",
   "mimetype": "text/x-python",
   "name": "python",
   "nbconvert_exporter": "python",
   "pygments_lexer": "ipython3",
   "version": "3.7.7"
  }
 },
 "nbformat": 4,
 "nbformat_minor": 4
}
