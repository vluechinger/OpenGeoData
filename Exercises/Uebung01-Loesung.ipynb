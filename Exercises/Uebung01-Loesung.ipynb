{
 "cells": [
  {
   "cell_type": "markdown",
   "metadata": {},
   "source": [
    "# Uebung 1\n",
    "\n",
    "## Aufgabe 1\n",
    "\n",
    "Der Datensatz Bauprojekte Infrastruktur der SBB (https://opendata.swiss/de/dataset/bauprojekte-infrastruktur) enhält \n",
    "\n",
    "a) Was muss bei der Lizenz berücksichtigt werden ?\n",
    "\n",
    "b) Stellen Sie alle aktuellen Bauwerke mit Markern auf einer Karte mit Folium und Markern (optional Markercluster) dar.\n",
    "\n"
   ]
  },
  {
   "cell_type": "code",
   "execution_count": null,
   "metadata": {},
   "outputs": [],
   "source": [
    "import folium\n",
    "import urllib\n",
    "import shutil"
   ]
  },
  {
   "cell_type": "code",
   "execution_count": null,
   "metadata": {},
   "outputs": [],
   "source": [
    "# CSV herunterladen:\n",
    "filename, headers = urllib.request.urlretrieve(\"https://data.sbb.ch/api/v2/catalog/datasets/construction-projects/exports/csv\", \"daten/bauprojekte.csv\")"
   ]
  },
  {
   "cell_type": "code",
   "execution_count": null,
   "metadata": {},
   "outputs": [],
   "source": [
    "m = folium.Map(location=[47.37825,8.5367835], tiles='', zoom_start=7)\n",
    " \n",
    "folium.raster_layers.TileLayer(\n",
    "    tiles=\"https://wmts.geo.admin.ch/1.0.0/ch.swisstopo.pixelkarte-farbe/default/current/3857/{z}/{x}/{y}.jpeg\",\n",
    "    attr=\"(c) swisstopo\",\n",
    "    name=\"pixelkarte-farbe\",\n",
    "    min_zoom=8,\n",
    "    max_zoom=18,\n",
    "    tms=False,\n",
    "    overlay=False,\n",
    "    control=False,\n",
    ").add_to(m)\n",
    "\n",
    "folium.LayerControl().add_to(m)\n",
    "\n",
    "\n",
    "file = open(\"daten/bauprojekte.csv\", encoding=\"utf-8\")\n",
    "\n",
    "next(file)\n",
    "\n",
    "for line in file:\n",
    "    data = line.strip().split(\";\")\n",
    "    lnglat = data[0].split(\",\")\n",
    "    lat = float(lnglat[0])\n",
    "    lng = float(lnglat[1])\n",
    "    projektname = data[1]\n",
    "    ort = data[2]\n",
    "    link = data[5]\n",
    "    url = \"\"\n",
    "    if link != \"\":\n",
    "        url = f\"<a href='{link}' target='_blank'>link</a>\"\n",
    "    \n",
    "    folium.Marker([lat,lng], \n",
    "              popup=f\"{projektname}<br/>{ort}<br/>{url}\",\n",
    "              icon=folium.Icon(color=\"red\", prefix=\"fa\", icon=\"star\")).add_to(m)\n",
    "   \n",
    "\n",
    "file.close()\n",
    "    \n",
    "m\n"
   ]
  },
  {
   "cell_type": "markdown",
   "metadata": {},
   "source": [
    "## Aufgabe 2"
   ]
  },
  {
   "cell_type": "code",
   "execution_count": null,
   "metadata": {},
   "outputs": [],
   "source": [
    "# CSV herunterladen:\n",
    "filename, headers = urllib.request.urlretrieve(\"https://data.sbb.ch/api/v2/catalog/datasets/construction-projects/exports/geojson\", \"daten/bauprojekte.geojson\")"
   ]
  },
  {
   "cell_type": "code",
   "execution_count": null,
   "metadata": {},
   "outputs": [],
   "source": [
    "import geopandas as gpd\n",
    "import pandas as pd\n",
    "\n",
    "cantons = gpd.read_file(\"daten/gemeindegrenzen/ggg_2021-LV95/shp/g1k21.shp\", encoding=\"utf-8\")\n",
    "points = gpd.read_file(\"daten/bauprojekte.geojson\", encoding=\"utf-8\")\n",
    "\n",
    "cantons.head()\n",
    "\n",
    "points = points.to_crs(2056)\n",
    "\n",
    "# Spatial Join\n",
    "pointsInPolygon = gpd.sjoin(points, cantons, how=\"inner\", op='intersects')\n"
   ]
  },
  {
   "cell_type": "code",
   "execution_count": null,
   "metadata": {},
   "outputs": [],
   "source": [
    "pointsInPolygon['anzahl'] = 1\n",
    "pointsInPolygon = pointsInPolygon[[\"KTNR\", \"anzahl\"]]\n",
    "\n",
    "result = pointsInPolygon.groupby(['KTNR']).sum()\n",
    "result"
   ]
  },
  {
   "cell_type": "code",
   "execution_count": null,
   "metadata": {},
   "outputs": [],
   "source": []
  },
  {
   "cell_type": "markdown",
   "metadata": {},
   "source": [
    "## Aufgabe 3\n",
    "\n",
    "Laden sie ein einzelnes Mosaik von swissimage herunter. Dieses kann mit dem Web-Interface auf https://www.swisstopo.admin.ch/de/geodata/images/ortho/swissimage10.html gefunden werden.\n",
    "(durch klicken auf \"alle links exportieren\"). Speichern Sie dieses Bild im \"daten\" Ordner.\n",
    "\n",
    "Beispiel:\n",
    "\n",
    "```url = \"https://data.geo.admin.ch/ch.swisstopo.swissimage-dop10/swissimage-dop10_2018_2615-1264/swissimage-dop10_2018_2615-1264_0.1_2056.tif\"```\n",
    "\n",
    "\n",
    "a) Bestimmen Sie unter verwendung von Rasterio:\n",
    "\n",
    "    1. Die Auflösung des Bildes\n",
    "    2. Wieviele Quadratmeter werden in diesem Bild abgedeckt?\n",
    "    3. Die LV95 Koordinaten von den Eckpunkten und dem Mittelpunkt des Bildes\n",
    "    \n",
    "b) Plotten Sie das Bild in Jupyter Lab\n",
    "\n"
   ]
  },
  {
   "cell_type": "code",
   "execution_count": null,
   "metadata": {},
   "outputs": [],
   "source": [
    "import rasterio\n",
    "import geoutils\n",
    "import matplotlib.pyplot as plt\n",
    "import numpy as np"
   ]
  },
  {
   "cell_type": "code",
   "execution_count": null,
   "metadata": {},
   "outputs": [],
   "source": [
    "url = \"https://data.geo.admin.ch/ch.swisstopo.swissimage-dop10/swissimage-dop10_2018_2615-1264/swissimage-dop10_2018_2615-1264_0.1_2056.tif\""
   ]
  },
  {
   "cell_type": "code",
   "execution_count": null,
   "metadata": {},
   "outputs": [],
   "source": [
    "geoutils.download(url, \"daten/swissimage_ausschnitt.tif\")"
   ]
  },
  {
   "cell_type": "code",
   "execution_count": null,
   "metadata": {},
   "outputs": [],
   "source": [
    "dataset = rasterio.open(\"daten/swissimage_ausschnitt.tif\")\n",
    "\n",
    "print(dataset.width, dataset.height)"
   ]
  },
  {
   "cell_type": "code",
   "execution_count": null,
   "metadata": {},
   "outputs": [],
   "source": [
    "10000*10000*3/1024/1024"
   ]
  },
  {
   "cell_type": "code",
   "execution_count": null,
   "metadata": {},
   "outputs": [],
   "source": [
    "dataset.crs"
   ]
  },
  {
   "cell_type": "code",
   "execution_count": null,
   "metadata": {},
   "outputs": [],
   "source": [
    "dataset.transform"
   ]
  },
  {
   "cell_type": "code",
   "execution_count": null,
   "metadata": {},
   "outputs": [],
   "source": [
    "s = dataset.transform[0]"
   ]
  },
  {
   "cell_type": "code",
   "execution_count": null,
   "metadata": {},
   "outputs": [],
   "source": [
    "l = dataset.width * s\n",
    "b = dataset.height * s\n",
    "print(l,b)"
   ]
  },
  {
   "cell_type": "code",
   "execution_count": null,
   "metadata": {},
   "outputs": [],
   "source": [
    "r = dataset.read(1)\n",
    "g = dataset.read(2)\n",
    "b = dataset.read(3)\n",
    "\n",
    "rgb = np.dstack((r,g,b))\n",
    "\n",
    "del r\n",
    "del g\n",
    "del b"
   ]
  },
  {
   "cell_type": "code",
   "execution_count": null,
   "metadata": {},
   "outputs": [],
   "source": [
    "fig, ax = plt.subplots(figsize=(16,9))\n",
    "ax.imshow(rgb, interpolation='bilinear');"
   ]
  },
  {
   "cell_type": "code",
   "execution_count": null,
   "metadata": {},
   "outputs": [],
   "source": [
    "del rgb"
   ]
  },
  {
   "cell_type": "code",
   "execution_count": null,
   "metadata": {},
   "outputs": [],
   "source": []
  }
 ],
 "metadata": {
  "kernelspec": {
   "display_name": "GeoPython",
   "language": "python",
   "name": "geopython"
  },
  "language_info": {
   "codemirror_mode": {
    "name": "ipython",
    "version": 3
   },
   "file_extension": ".py",
   "mimetype": "text/x-python",
   "name": "python",
   "nbconvert_exporter": "python",
   "pygments_lexer": "ipython3",
   "version": "3.7.7"
  }
 },
 "nbformat": 4,
 "nbformat_minor": 4
}
