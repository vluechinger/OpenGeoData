{
 "cells": [
  {
   "cell_type": "markdown",
   "metadata": {},
   "source": [
    "# Uebung 3\n",
    "\n",
    "## Aufgabe 1\n",
    "\n",
    "a) Laden Sie das tiff-file des 0.1m swissimage Datensatz herunter (\"daten/bern.tif\"), welches das Bundeshaus enthält. \n",
    "\n",
    "b) Erstellen Sie ein neues GeoTIFF im Umkreis von 100 Metern um das Bundeshaus (1000x1000 Bild).\n",
    "\n",
    "\n",
    "Das Bundeshaus ist hier zu finden:\n",
    "\n",
    "    pos_lv95 = (2_600_426.281, 1_199_497.112) \n",
    "    pos_wgs84 = (7.444120726365559, 46.94653998135123)"
   ]
  },
  {
   "cell_type": "code",
   "execution_count": 4,
   "metadata": {},
   "outputs": [
    {
     "name": "stdout",
     "output_type": "stream",
     "text": [
      "File https://data.geo.admin.ch/ch.swisstopo.swissimage-dop10/swissimage-dop10_2018_2600-1199/swissimage-dop10_2018_2600-1199_0.1_2056.tif already exists, not overwriting.          "
     ]
    }
   ],
   "source": [
    "# a)\n",
    "\n",
    "import geopandas as gpd\n",
    "import shapely\n",
    "import geopandas_stac as stac\n",
    "import geoutils\n",
    "\n",
    "stac.getCollectionList(cache=True)\n",
    "df = stac.getAssets(\"ch.swisstopo.swissimage-dop10\")\n",
    "\n",
    "df_swissimage_10cm = df.query('gsd == \"0.1\"') \n",
    "\n",
    "lat = 46.94653998135123\n",
    "lng = 7.444120726365559\n",
    "\n",
    "point = shapely.geometry.Point(lng, lat)\n",
    "bundeshaus_punkt = gpd.GeoDataFrame(geometry=gpd.GeoSeries(point, crs=\"epsg:4326\"))\n",
    "\n",
    "df_bundeshaus_10cm = gpd.sjoin(df_swissimage_10cm, bundeshaus_punkt, op='contains')\n",
    "bundeshaus = stac.getUrlList(df_bundeshaus_10cm)\n",
    "url = bundeshaus[0]\n",
    "\n",
    "geoutils.download(url, \"daten/bern.tif\", False)"
   ]
  },
  {
   "cell_type": "code",
   "execution_count": 5,
   "metadata": {},
   "outputs": [],
   "source": [
    "import rasterio\n",
    "from rasterio.windows import Window\n",
    "\n",
    "dataset = rasterio.open(\"daten/bern.tif\")\n",
    "\n",
    "# Zentrum in Pixelkoordinaten bestimmen:\n",
    "pos = (2_600_426.281, 1_199_497.112)\n",
    "center = ~dataset.transform * pos\n",
    "\n",
    "# Koordinate oben links berechnen\n",
    "\n",
    "width = 1000  # 100m -> Eigentlich Umkreis -> Pythagoras\n",
    "height = 1000 # 100m    Aber nehmen wir doch 1000x1000\n",
    "upper_left = (int(center[0] - width/2), int(center[1] - height/2))\n",
    "\n",
    "w = Window(upper_left[0], upper_left[1], width, height)\n",
    "\n",
    "r = dataset.read(1, window=w)\n",
    "g = dataset.read(2, window=w)\n",
    "b = dataset.read(3, window=w)\n",
    "\n",
    "# Erstellen neuer Affintransformation\n",
    "ul = dataset.transform * upper_left\n",
    "t = rasterio.Affine(dataset.transform[0],dataset.transform[1],ul[0],\n",
    "                    dataset.transform[3],dataset.transform[4],ul[1])\n",
    "\n",
    "dataset_out =  rasterio.open(\"daten/bundeshaus.tif\", \"w\", driver='GTiff', width=width, height=height, count=3, dtype=r.dtype, transform=t)\n",
    "\n",
    "# Daten (r,g,b) schreiben\n",
    "dataset_out.write(r, indexes=1)\n",
    "dataset_out.write(g, indexes=2)\n",
    "dataset_out.write(b, indexes=3)\n",
    "\n",
    "\n",
    "# schliessen:\n",
    "dataset_out.close()\n",
    "dataset.close()\n",
    "\n",
    "# Speicher freigeben\n",
    "r = 0\n",
    "g = 0\n",
    "b = 0\n"
   ]
  },
  {
   "cell_type": "code",
   "execution_count": null,
   "metadata": {},
   "outputs": [],
   "source": []
  },
  {
   "cell_type": "markdown",
   "metadata": {},
   "source": [
    "## Aufgabe 2\n",
    "\n",
    "Machen Sie dassebe wie Aufgabe 1, aber mit dem swisstopo WMS & Python  "
   ]
  },
  {
   "cell_type": "code",
   "execution_count": 6,
   "metadata": {},
   "outputs": [
    {
     "name": "stderr",
     "output_type": "stream",
     "text": [
      "/opt/anaconda3/envs/geopython/lib/python3.7/site-packages/owslib/map/wms130.py:122: UserWarning: Content metadata for layer \"ch.bakom.notruf-118_mobilnetz\" already exists. Using child layer\n",
      "  warnings.warn('Content metadata for layer \"%s\" already exists. Using child layer' % cm.id)\n"
     ]
    }
   ],
   "source": [
    "from owslib.wms import WebMapService\n",
    "\n",
    "def getImageFromCenter(wms,layer,centerx,centery,meters,res_cm,output_file):\n",
    "    ulx = centerx-meters/2\n",
    "    lrx = centerx+meters/2\n",
    "    uly = centery+meters/2\n",
    "    lry = centery-meters/2\n",
    "\n",
    "    w = int((lrx-ulx)/res_cm)\n",
    "    h = int((uly-lry)/res_cm)\n",
    "    \n",
    "    img = wms.getmap(layers=[layer],\n",
    "                 styles=['default'],\n",
    "                 srs='EPSG:2056',\n",
    "                 bbox=(ulx, lry, \n",
    "                       lrx, uly),\n",
    "                 size=(w, h),\n",
    "                 format='image/tiff',\n",
    "                 transparent=True)\n",
    "    \n",
    "    out = open(output_file, 'wb')\n",
    "    out.write(img.read())\n",
    "    out.close()\n",
    "\n",
    "wms = WebMapService('https://wms.geo.admin.ch', version='1.3.0')\n",
    "\n",
    "layer = 'ch.swisstopo.swissimage'\n",
    "getImageFromCenter(wms, layer, 2_600_426.281, 1_199_497.112, 100, 10, \"daten/bundeshaus_wms.tif\")\n"
   ]
  },
  {
   "cell_type": "markdown",
   "metadata": {},
   "source": [
    "## Aufgabe 3\n",
    "\n",
    "Erstellen Sie einige Bild von anderen WMS Layern des swisstopo WMS."
   ]
  },
  {
   "cell_type": "code",
   "execution_count": 7,
   "metadata": {},
   "outputs": [],
   "source": [
    "layer = 'ch.swisstopo.landeskarte-farbe-10'\n",
    "img = wms.getmap(layers=[layer],\n",
    "                 styles=['default'],\n",
    "                 srs='EPSG:2056',\n",
    "                 bbox=(2_600_000, 1_199_000, \n",
    "                       2_601_000, 1_200_000),\n",
    "                 size=(1000, 1000),\n",
    "                 format='image/png',\n",
    "                 transparent=True)\n",
    "    \n",
    "out = open(\"daten/pk.png\", 'wb')\n",
    "out.write(img.read())\n",
    "out.close()"
   ]
  },
  {
   "cell_type": "code",
   "execution_count": 8,
   "metadata": {},
   "outputs": [],
   "source": [
    "layer = 'ch.swisstopo.swissnames3d_label'\n",
    "img = wms.getmap(layers=[layer],\n",
    "                 styles=['default'],\n",
    "                 srs='EPSG:2056',\n",
    "                 bbox=(2_600_000, 1_199_000, \n",
    "                       2_601_000, 1_200_000),\n",
    "                 size=(1000, 1000),\n",
    "                 format='image/png',\n",
    "                 transparent=True)\n",
    "    \n",
    "out = open(\"daten/sa.png\", 'wb')\n",
    "out.write(img.read())\n",
    "out.close()"
   ]
  },
  {
   "cell_type": "code",
   "execution_count": null,
   "metadata": {},
   "outputs": [],
   "source": []
  }
 ],
 "metadata": {
  "kernelspec": {
   "display_name": "GeoPython",
   "language": "python",
   "name": "geopython"
  },
  "language_info": {
   "codemirror_mode": {
    "name": "ipython",
    "version": 3
   },
   "file_extension": ".py",
   "mimetype": "text/x-python",
   "name": "python",
   "nbconvert_exporter": "python",
   "pygments_lexer": "ipython3",
   "version": "3.7.7"
  }
 },
 "nbformat": 4,
 "nbformat_minor": 4
}
