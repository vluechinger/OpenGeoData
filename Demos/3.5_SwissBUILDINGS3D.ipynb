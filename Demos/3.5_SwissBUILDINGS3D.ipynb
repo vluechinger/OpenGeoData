{
 "cells": [
  {
   "cell_type": "markdown",
   "metadata": {},
   "source": [
    "## swissBUILDINGS3D\n"
   ]
  },
  {
   "cell_type": "code",
   "execution_count": 2,
   "metadata": {},
   "outputs": [],
   "source": [
    "import geopandas as gpd\n",
    "import pandas as pd\n",
    "import shapely\n",
    "import geopandas_stac as stac\n",
    "import geoutils"
   ]
  },
  {
   "cell_type": "code",
   "execution_count": 3,
   "metadata": {},
   "outputs": [],
   "source": [
    "df = stac.getAssets(\"ch.swisstopo.swissbuildings3d_2\")"
   ]
  },
  {
   "cell_type": "code",
   "execution_count": 4,
   "metadata": {},
   "outputs": [
    {
     "data": {
      "text/plain": [
       "['base']"
      ]
     },
     "execution_count": 4,
     "metadata": {},
     "output_type": "execute_result"
    }
   ],
   "source": [
    "list(df['variant'].unique())"
   ]
  },
  {
   "cell_type": "code",
   "execution_count": 5,
   "metadata": {},
   "outputs": [
    {
     "data": {
      "text/plain": [
       "[2056]"
      ]
     },
     "execution_count": 5,
     "metadata": {},
     "output_type": "execute_result"
    }
   ],
   "source": [
    "list(df['proj'].unique())"
   ]
  },
  {
   "cell_type": "code",
   "execution_count": 6,
   "metadata": {},
   "outputs": [
    {
     "data": {
      "text/plain": [
       "['application/x.dxf+zip', 'application/x.filegdb+zip']"
      ]
     },
     "execution_count": 6,
     "metadata": {},
     "output_type": "execute_result"
    }
   ],
   "source": [
    "list(df['type'].unique())"
   ]
  },
  {
   "cell_type": "code",
   "execution_count": 7,
   "metadata": {},
   "outputs": [],
   "source": [
    "df_gdb = df.query(\"type == 'application/x.filegdb+zip'\")"
   ]
  },
  {
   "cell_type": "code",
   "execution_count": 8,
   "metadata": {},
   "outputs": [],
   "source": [
    "df_dxf = df.query(\"type == 'application/x.dxf+zip'\")"
   ]
  },
  {
   "cell_type": "markdown",
   "metadata": {},
   "source": [
    "### GDB"
   ]
  },
  {
   "cell_type": "code",
   "execution_count": 9,
   "metadata": {},
   "outputs": [],
   "source": [
    "# Bundeshaus:\n",
    "lat = 46.94653998135123\n",
    "lng = 7.444120726365559\n",
    "\n",
    "point = shapely.geometry.Point(lng, lat)\n",
    "bundeshaus_punkt = gpd.GeoDataFrame(geometry=gpd.GeoSeries(point, crs=\"epsg:4326\"))\n",
    "df_bundeshaus = gpd.sjoin(df_gdb, bundeshaus_punkt, op='contains')"
   ]
  },
  {
   "cell_type": "code",
   "execution_count": 10,
   "metadata": {},
   "outputs": [
    {
     "data": {
      "text/html": [
       "<div>\n",
       "<style scoped>\n",
       "    .dataframe tbody tr th:only-of-type {\n",
       "        vertical-align: middle;\n",
       "    }\n",
       "\n",
       "    .dataframe tbody tr th {\n",
       "        vertical-align: top;\n",
       "    }\n",
       "\n",
       "    .dataframe thead th {\n",
       "        text-align: right;\n",
       "    }\n",
       "</style>\n",
       "<table border=\"1\" class=\"dataframe\">\n",
       "  <thead>\n",
       "    <tr style=\"text-align: right;\">\n",
       "      <th></th>\n",
       "      <th>name</th>\n",
       "      <th>type</th>\n",
       "      <th>bbox</th>\n",
       "      <th>created</th>\n",
       "      <th>updated</th>\n",
       "      <th>href</th>\n",
       "      <th>proj</th>\n",
       "      <th>gsd</th>\n",
       "      <th>variant</th>\n",
       "      <th>checksum</th>\n",
       "      <th>geometry</th>\n",
       "      <th>index_right</th>\n",
       "    </tr>\n",
       "  </thead>\n",
       "  <tbody>\n",
       "    <tr>\n",
       "      <th>2861</th>\n",
       "      <td>swissbuildings3d_2_2020-10_2056_5728.gdb.zip</td>\n",
       "      <td>application/x.filegdb+zip</td>\n",
       "      <td>[5.95590142200007, 45.81795851, 10.492170721, ...</td>\n",
       "      <td>2021-02-16T09:13:38.420521Z</td>\n",
       "      <td>2021-02-16T09:13:38.420538Z</td>\n",
       "      <td>https://data.geo.admin.ch/ch.swisstopo.swissbu...</td>\n",
       "      <td>2056</td>\n",
       "      <td>0</td>\n",
       "      <td>base</td>\n",
       "      <td>122066022d21874ac213c661e2dc502ee46cf4fcc8f111...</td>\n",
       "      <td>POLYGON ((5.95590 45.81796, 5.95590 47.80845, ...</td>\n",
       "      <td>0</td>\n",
       "    </tr>\n",
       "    <tr>\n",
       "      <th>3230</th>\n",
       "      <td>swissbuildings3d_2_2021-05_2056_5728.gdb.zip</td>\n",
       "      <td>application/x.filegdb+zip</td>\n",
       "      <td>[5.2229406, 45.3204053, 11.2575962, 48.2425816]</td>\n",
       "      <td>2021-06-16T15:18:38.661183Z</td>\n",
       "      <td>2021-07-12T12:00:34.390986Z</td>\n",
       "      <td>https://data.geo.admin.ch/ch.swisstopo.swissbu...</td>\n",
       "      <td>2056</td>\n",
       "      <td>0</td>\n",
       "      <td>base</td>\n",
       "      <td>1220EAFCCB5AF66FCFC02107CF962E2C32725090228670...</td>\n",
       "      <td>POLYGON ((5.33859 45.35949, 5.22294 48.24258, ...</td>\n",
       "      <td>0</td>\n",
       "    </tr>\n",
       "  </tbody>\n",
       "</table>\n",
       "</div>"
      ],
      "text/plain": [
       "                                              name                       type  \\\n",
       "2861  swissbuildings3d_2_2020-10_2056_5728.gdb.zip  application/x.filegdb+zip   \n",
       "3230  swissbuildings3d_2_2021-05_2056_5728.gdb.zip  application/x.filegdb+zip   \n",
       "\n",
       "                                                   bbox  \\\n",
       "2861  [5.95590142200007, 45.81795851, 10.492170721, ...   \n",
       "3230    [5.2229406, 45.3204053, 11.2575962, 48.2425816]   \n",
       "\n",
       "                          created                      updated  \\\n",
       "2861  2021-02-16T09:13:38.420521Z  2021-02-16T09:13:38.420538Z   \n",
       "3230  2021-06-16T15:18:38.661183Z  2021-07-12T12:00:34.390986Z   \n",
       "\n",
       "                                                   href  proj  gsd variant  \\\n",
       "2861  https://data.geo.admin.ch/ch.swisstopo.swissbu...  2056    0    base   \n",
       "3230  https://data.geo.admin.ch/ch.swisstopo.swissbu...  2056    0    base   \n",
       "\n",
       "                                               checksum  \\\n",
       "2861  122066022d21874ac213c661e2dc502ee46cf4fcc8f111...   \n",
       "3230  1220EAFCCB5AF66FCFC02107CF962E2C32725090228670...   \n",
       "\n",
       "                                               geometry  index_right  \n",
       "2861  POLYGON ((5.95590 45.81796, 5.95590 47.80845, ...            0  \n",
       "3230  POLYGON ((5.33859 45.35949, 5.22294 48.24258, ...            0  "
      ]
     },
     "execution_count": 10,
     "metadata": {},
     "output_type": "execute_result"
    }
   ],
   "source": [
    "df_bundeshaus"
   ]
  },
  {
   "cell_type": "code",
   "execution_count": 11,
   "metadata": {},
   "outputs": [
    {
     "data": {
      "text/plain": [
       "['https://data.geo.admin.ch/ch.swisstopo.swissbuildings3d_2/swissbuildings3d_2_2020-10/swissbuildings3d_2_2020-10_2056_5728.gdb.zip',\n",
       " 'https://data.geo.admin.ch/ch.swisstopo.swissbuildings3d_2/swissbuildings3d_2_2021-05/swissbuildings3d_2_2021-05_2056_5728.gdb.zip']"
      ]
     },
     "execution_count": 11,
     "metadata": {},
     "output_type": "execute_result"
    }
   ],
   "source": [
    "urls = stac.getUrlList(df_bundeshaus)\n",
    "urls"
   ]
  },
  {
   "cell_type": "code",
   "execution_count": 12,
   "metadata": {},
   "outputs": [
    {
     "name": "stdout",
     "output_type": "stream",
     "text": [
      "Downloading daten/building.zip from https://data.geo.admin.ch/ch.swisstopo.swissbuildings3d_2/swissbuildings3d_2_2020-10/swissbuildings3d_2_2020-10_2056_5728.gdb.zip\n",
      "19% done \t[*******************---------------------------------------------------------------------------------]"
     ]
    },
    {
     "name": "stderr",
     "output_type": "stream",
     "text": [
      "IOPub data rate exceeded.\n",
      "The notebook server will temporarily stop sending output\n",
      "to the client in order to avoid crashing it.\n",
      "To change this limit, set the config variable\n",
      "`--NotebookApp.iopub_data_rate_limit`.\n",
      "\n",
      "Current values:\n",
      "NotebookApp.iopub_data_rate_limit=1000000.0 (bytes/sec)\n",
      "NotebookApp.rate_limit_window=3.0 (secs)\n",
      "\n"
     ]
    },
    {
     "name": "stdout",
     "output_type": "stream",
     "text": [
      "54% done \t[******************************************************----------------------------------------------]"
     ]
    },
    {
     "name": "stderr",
     "output_type": "stream",
     "text": [
      "IOPub data rate exceeded.\n",
      "The notebook server will temporarily stop sending output\n",
      "to the client in order to avoid crashing it.\n",
      "To change this limit, set the config variable\n",
      "`--NotebookApp.iopub_data_rate_limit`.\n",
      "\n",
      "Current values:\n",
      "NotebookApp.iopub_data_rate_limit=1000000.0 (bytes/sec)\n",
      "NotebookApp.rate_limit_window=3.0 (secs)\n",
      "\n"
     ]
    },
    {
     "name": "stdout",
     "output_type": "stream",
     "text": [
      "94% done \t[**********************************************************************************************------]"
     ]
    },
    {
     "name": "stderr",
     "output_type": "stream",
     "text": [
      "IOPub data rate exceeded.\n",
      "The notebook server will temporarily stop sending output\n",
      "to the client in order to avoid crashing it.\n",
      "To change this limit, set the config variable\n",
      "`--NotebookApp.iopub_data_rate_limit`.\n",
      "\n",
      "Current values:\n",
      "NotebookApp.iopub_data_rate_limit=1000000.0 (bytes/sec)\n",
      "NotebookApp.rate_limit_window=3.0 (secs)\n",
      "\n"
     ]
    },
    {
     "name": "stdout",
     "output_type": "stream",
     "text": [
      "100% done \t[****************************************************************************************************]\n"
     ]
    }
   ],
   "source": [
    "geoutils.download(urls[0], \"daten/building.zip\", True)"
   ]
  },
  {
   "cell_type": "code",
   "execution_count": null,
   "metadata": {},
   "outputs": [],
   "source": [
    "import zipfile\n",
    "with zipfile.ZipFile(\"daten/building.zip\", 'r') as zip_ref:\n",
    "    zip_ref.extractall(\"daten/b\")"
   ]
  },
  {
   "cell_type": "code",
   "execution_count": null,
   "metadata": {},
   "outputs": [],
   "source": [
    "import fiona\n",
    "\n",
    "gdb = \"daten/b/FGDB_LV95LN02/SWISSBUILDINGS3D_2_0_CHLV95LN02.gdb\"\n",
    "fiona.listlayers(gdb);"
   ]
  },
  {
   "cell_type": "code",
   "execution_count": null,
   "metadata": {},
   "outputs": [],
   "source": [
    "_1091_11 = fiona.open(gdb, 'r', layer='_1091_11')\n",
    "\n",
    "i = iter(_1091_11)\n",
    "\n",
    "data = next(i)\n",
    "data"
   ]
  },
  {
   "cell_type": "code",
   "execution_count": null,
   "metadata": {},
   "outputs": [],
   "source": [
    "from shapely.geometry import mapping, shape\n",
    "\n",
    "geom = shape(data['geometry'])"
   ]
  },
  {
   "cell_type": "code",
   "execution_count": null,
   "metadata": {},
   "outputs": [],
   "source": [
    "geom"
   ]
  },
  {
   "cell_type": "code",
   "execution_count": null,
   "metadata": {},
   "outputs": [],
   "source": [
    "coords = data['geometry']['coordinates']\n",
    "\n",
    "print(len(coords))"
   ]
  },
  {
   "cell_type": "code",
   "execution_count": null,
   "metadata": {},
   "outputs": [],
   "source": [
    "coords"
   ]
  },
  {
   "cell_type": "markdown",
   "metadata": {},
   "source": [
    "### Arbeiten mit den 3D Daten\n",
    "\n",
    "Wir könnten z.B. ein OBJ File daraus machen...\n",
    "\n",
    "Dies wird hier ohne offset direkt in LV95 gemacht. Es wäre sinnvoller die Koordinatengrössse zu reduzieren\n"
   ]
  },
  {
   "cell_type": "code",
   "execution_count": null,
   "metadata": {},
   "outputs": [],
   "source": [
    "vertices = \"\"\n",
    "faces = \"\"\n",
    "cnt = 1\n",
    "\n",
    "for element in coords:\n",
    "    for v in element[0]:\n",
    "        vertices += f\"v {v[0]} {v[1]} {v[2]}\\n\"  # Achtung, wir sollten eigentlich die Höhe in y schreiben\n",
    "    faces += \"f \"\n",
    "    for i in range(0,len(element[0])):\n",
    "        faces += str(cnt)\n",
    "        faces += \" \"\n",
    "        cnt += 1\n",
    "    faces += \"\\n\"\n",
    "\n",
    "print(vertices)\n",
    "print(faces)\n",
    "        "
   ]
  },
  {
   "cell_type": "markdown",
   "metadata": {},
   "source": [
    "### DXF"
   ]
  },
  {
   "cell_type": "code",
   "execution_count": null,
   "metadata": {},
   "outputs": [],
   "source": [
    "# Bundeshaus:\n",
    "lat = 46.94653998135123\n",
    "lng = 7.444120726365559\n",
    "\n",
    "point = shapely.geometry.Point(lng, lat)\n",
    "bundeshaus_punkt = gpd.GeoDataFrame(geometry=gpd.GeoSeries(point, crs=\"epsg:4326\"))\n",
    "df_bundeshaus = gpd.sjoin(df_dxf, bundeshaus_punkt, op='contains')\n",
    "\n",
    "urls = stac.getUrlList(df_bundeshaus)\n",
    "urls"
   ]
  },
  {
   "cell_type": "code",
   "execution_count": null,
   "metadata": {},
   "outputs": [],
   "source": [
    "geoutils.download(urls[0], \"daten/building_dxf.zip\", True)"
   ]
  },
  {
   "cell_type": "code",
   "execution_count": null,
   "metadata": {},
   "outputs": [],
   "source": [
    "import zipfile\n",
    "with zipfile.ZipFile(\"daten/building_dxf.zip\", 'r') as zip_ref:\n",
    "    zip_ref.extractall(\"daten/b\")"
   ]
  },
  {
   "cell_type": "code",
   "execution_count": null,
   "metadata": {},
   "outputs": [],
   "source": []
  }
 ],
 "metadata": {
  "kernelspec": {
   "display_name": "GeoPython",
   "language": "python",
   "name": "geopython"
  },
  "language_info": {
   "codemirror_mode": {
    "name": "ipython",
    "version": 3
   },
   "file_extension": ".py",
   "mimetype": "text/x-python",
   "name": "python",
   "nbconvert_exporter": "python",
   "pygments_lexer": "ipython3",
   "version": "3.7.7"
  }
 },
 "nbformat": 4,
 "nbformat_minor": 4
}
