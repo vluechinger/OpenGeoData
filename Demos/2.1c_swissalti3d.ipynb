{
 "cells": [
  {
   "cell_type": "markdown",
   "metadata": {},
   "source": [
    "## STAC API - swissALTI3D\n",
    "\n",
    "https://www.swisstopo.admin.ch/de/geodata/height/alti3d.html\n",
    "\n",
    "* ``stac.getCollectionList(cache=True)``\n",
    "* ``df = stac.getAssets(\"ASSETNAME\")``\n",
    "* Eindeutigkeit Abfragen (z.B. Auflösung, Variante)\n",
    "* ``urls = stac.getUrlList(df_krel)``"
   ]
  },
  {
   "cell_type": "code",
   "execution_count": 1,
   "metadata": {},
   "outputs": [],
   "source": [
    "import geopandas as gpd\n",
    "import shapely\n",
    "import geopandas_stac as stac "
   ]
  },
  {
   "cell_type": "code",
   "execution_count": 2,
   "metadata": {},
   "outputs": [
    {
     "data": {
      "text/plain": [
       "['ch.bazl.luftfahrtkarten-icao',\n",
       " 'ch.bazl.segelflugkarte',\n",
       " 'ch.swisstopo.geoidmodell-ch1903',\n",
       " 'ch.swisstopo.landeskarte-farbe-10',\n",
       " 'ch.swisstopo.pixelkarte-farbe-pk100.noscale',\n",
       " 'ch.swisstopo.pixelkarte-farbe-pk200.noscale',\n",
       " 'ch.swisstopo.pixelkarte-farbe-pk25.noscale',\n",
       " 'ch.swisstopo.pixelkarte-farbe-pk50.noscale',\n",
       " 'ch.swisstopo.swissalti3d',\n",
       " 'ch.swisstopo.swissbathy3d',\n",
       " 'ch.swisstopo.swissboundaries3d',\n",
       " 'ch.swisstopo.swissbuildings3d_2',\n",
       " 'ch.swisstopo.swissimage-dop10',\n",
       " 'ch.swisstopo.swissnames3d',\n",
       " 'ch.swisstopo.swisssurface3d',\n",
       " 'ch.swisstopo.swisssurface3d-raster',\n",
       " 'ch.swisstopo.swisstlm3d',\n",
       " 'ch.swisstopo.swisstlmregio']"
      ]
     },
     "execution_count": 2,
     "metadata": {},
     "output_type": "execute_result"
    }
   ],
   "source": [
    "stac.getCollectionList(cache=True)"
   ]
  },
  {
   "cell_type": "code",
   "execution_count": 3,
   "metadata": {},
   "outputs": [],
   "source": [
    "df = stac.getAssets(\"ch.swisstopo.swissalti3d\")"
   ]
  },
  {
   "cell_type": "code",
   "execution_count": 4,
   "metadata": {},
   "outputs": [
    {
     "data": {
      "text/plain": [
       "174280"
      ]
     },
     "execution_count": 4,
     "metadata": {},
     "output_type": "execute_result"
    }
   ],
   "source": [
    "len(df)"
   ]
  },
  {
   "cell_type": "code",
   "execution_count": 5,
   "metadata": {},
   "outputs": [
    {
     "data": {
      "text/html": [
       "<div>\n",
       "<style scoped>\n",
       "    .dataframe tbody tr th:only-of-type {\n",
       "        vertical-align: middle;\n",
       "    }\n",
       "\n",
       "    .dataframe tbody tr th {\n",
       "        vertical-align: top;\n",
       "    }\n",
       "\n",
       "    .dataframe thead th {\n",
       "        text-align: right;\n",
       "    }\n",
       "</style>\n",
       "<table border=\"1\" class=\"dataframe\">\n",
       "  <thead>\n",
       "    <tr style=\"text-align: right;\">\n",
       "      <th></th>\n",
       "      <th>name</th>\n",
       "      <th>type</th>\n",
       "      <th>bbox</th>\n",
       "      <th>created</th>\n",
       "      <th>updated</th>\n",
       "      <th>href</th>\n",
       "      <th>proj</th>\n",
       "      <th>gsd</th>\n",
       "      <th>variant</th>\n",
       "      <th>checksum</th>\n",
       "      <th>geometry</th>\n",
       "    </tr>\n",
       "  </thead>\n",
       "  <tbody>\n",
       "    <tr>\n",
       "      <th>0</th>\n",
       "      <td>swissalti3d_2019_2485-1109_0.5_2056_5728.tif</td>\n",
       "      <td>image/tiff; application=geotiff; profile=cloud...</td>\n",
       "      <td>[5.9506124, 46.1226627, 5.9637923, 46.1318267]</td>\n",
       "      <td>2021-02-10T10:04:43.764791Z</td>\n",
       "      <td>2021-02-17T09:35:39.185751Z</td>\n",
       "      <td>https://data.geo.admin.ch/ch.swisstopo.swissal...</td>\n",
       "      <td>2056</td>\n",
       "      <td>0.5</td>\n",
       "      <td>base</td>\n",
       "      <td>12202727FE0977292F4E35B1E0B96F4A98D82770BB3E76...</td>\n",
       "      <td>POLYGON ((5.95086 46.12266, 5.96379 46.12283, ...</td>\n",
       "    </tr>\n",
       "    <tr>\n",
       "      <th>1</th>\n",
       "      <td>swissalti3d_2019_2485-1109_0.5_2056_5728.xyz.zip</td>\n",
       "      <td>application/x.ascii-xyz+zip</td>\n",
       "      <td>[5.9506124, 46.1226627, 5.9637923, 46.1318267]</td>\n",
       "      <td>2021-02-10T21:11:01.589017Z</td>\n",
       "      <td>2021-02-11T17:30:59.511612Z</td>\n",
       "      <td>https://data.geo.admin.ch/ch.swisstopo.swissal...</td>\n",
       "      <td>2056</td>\n",
       "      <td>0.5</td>\n",
       "      <td>base</td>\n",
       "      <td>122054A32E318E07DFCAC75D8FC6358C40C0584FB33501...</td>\n",
       "      <td>POLYGON ((5.95086 46.12266, 5.96379 46.12283, ...</td>\n",
       "    </tr>\n",
       "    <tr>\n",
       "      <th>2</th>\n",
       "      <td>swissalti3d_2019_2485-1109_2_2056_5728.tif</td>\n",
       "      <td>image/tiff; application=geotiff; profile=cloud...</td>\n",
       "      <td>[5.9506124, 46.1226627, 5.9637923, 46.1318267]</td>\n",
       "      <td>2021-02-10T15:55:59.931844Z</td>\n",
       "      <td>2021-02-17T16:49:32.218048Z</td>\n",
       "      <td>https://data.geo.admin.ch/ch.swisstopo.swissal...</td>\n",
       "      <td>2056</td>\n",
       "      <td>2.0</td>\n",
       "      <td>base</td>\n",
       "      <td>1220F71B0F548E42556E095017914F91509324D03AF5ED...</td>\n",
       "      <td>POLYGON ((5.95086 46.12266, 5.96379 46.12283, ...</td>\n",
       "    </tr>\n",
       "    <tr>\n",
       "      <th>3</th>\n",
       "      <td>swissalti3d_2019_2485-1109_2_2056_5728.xyz.zip</td>\n",
       "      <td>application/x.ascii-xyz+zip</td>\n",
       "      <td>[5.9506124, 46.1226627, 5.9637923, 46.1318267]</td>\n",
       "      <td>2021-02-11T21:30:04.695762Z</td>\n",
       "      <td>2021-02-11T21:30:04.695778Z</td>\n",
       "      <td>https://data.geo.admin.ch/ch.swisstopo.swissal...</td>\n",
       "      <td>2056</td>\n",
       "      <td>2.0</td>\n",
       "      <td>base</td>\n",
       "      <td>1220928B57E5E8AB5347271846963668539471DB51284C...</td>\n",
       "      <td>POLYGON ((5.95086 46.12266, 5.96379 46.12283, ...</td>\n",
       "    </tr>\n",
       "    <tr>\n",
       "      <th>4</th>\n",
       "      <td>swissalti3d_2019_2485-1110_0.5_2056_5728.tif</td>\n",
       "      <td>image/tiff; application=geotiff; profile=cloud...</td>\n",
       "      <td>[5.9503666, 46.1316566, 5.9635488, 46.1408207]</td>\n",
       "      <td>2021-02-10T10:03:20.781169Z</td>\n",
       "      <td>2021-02-17T09:41:48.547836Z</td>\n",
       "      <td>https://data.geo.admin.ch/ch.swisstopo.swissal...</td>\n",
       "      <td>2056</td>\n",
       "      <td>0.5</td>\n",
       "      <td>base</td>\n",
       "      <td>1220036F9A72805F7389304A88F867DA28536218F58EE9...</td>\n",
       "      <td>POLYGON ((5.95061 46.13166, 5.96355 46.13183, ...</td>\n",
       "    </tr>\n",
       "  </tbody>\n",
       "</table>\n",
       "</div>"
      ],
      "text/plain": [
       "                                               name  \\\n",
       "0      swissalti3d_2019_2485-1109_0.5_2056_5728.tif   \n",
       "1  swissalti3d_2019_2485-1109_0.5_2056_5728.xyz.zip   \n",
       "2        swissalti3d_2019_2485-1109_2_2056_5728.tif   \n",
       "3    swissalti3d_2019_2485-1109_2_2056_5728.xyz.zip   \n",
       "4      swissalti3d_2019_2485-1110_0.5_2056_5728.tif   \n",
       "\n",
       "                                                type  \\\n",
       "0  image/tiff; application=geotiff; profile=cloud...   \n",
       "1                        application/x.ascii-xyz+zip   \n",
       "2  image/tiff; application=geotiff; profile=cloud...   \n",
       "3                        application/x.ascii-xyz+zip   \n",
       "4  image/tiff; application=geotiff; profile=cloud...   \n",
       "\n",
       "                                             bbox  \\\n",
       "0  [5.9506124, 46.1226627, 5.9637923, 46.1318267]   \n",
       "1  [5.9506124, 46.1226627, 5.9637923, 46.1318267]   \n",
       "2  [5.9506124, 46.1226627, 5.9637923, 46.1318267]   \n",
       "3  [5.9506124, 46.1226627, 5.9637923, 46.1318267]   \n",
       "4  [5.9503666, 46.1316566, 5.9635488, 46.1408207]   \n",
       "\n",
       "                       created                      updated  \\\n",
       "0  2021-02-10T10:04:43.764791Z  2021-02-17T09:35:39.185751Z   \n",
       "1  2021-02-10T21:11:01.589017Z  2021-02-11T17:30:59.511612Z   \n",
       "2  2021-02-10T15:55:59.931844Z  2021-02-17T16:49:32.218048Z   \n",
       "3  2021-02-11T21:30:04.695762Z  2021-02-11T21:30:04.695778Z   \n",
       "4  2021-02-10T10:03:20.781169Z  2021-02-17T09:41:48.547836Z   \n",
       "\n",
       "                                                href  proj  gsd variant  \\\n",
       "0  https://data.geo.admin.ch/ch.swisstopo.swissal...  2056  0.5    base   \n",
       "1  https://data.geo.admin.ch/ch.swisstopo.swissal...  2056  0.5    base   \n",
       "2  https://data.geo.admin.ch/ch.swisstopo.swissal...  2056  2.0    base   \n",
       "3  https://data.geo.admin.ch/ch.swisstopo.swissal...  2056  2.0    base   \n",
       "4  https://data.geo.admin.ch/ch.swisstopo.swissal...  2056  0.5    base   \n",
       "\n",
       "                                            checksum  \\\n",
       "0  12202727FE0977292F4E35B1E0B96F4A98D82770BB3E76...   \n",
       "1  122054A32E318E07DFCAC75D8FC6358C40C0584FB33501...   \n",
       "2  1220F71B0F548E42556E095017914F91509324D03AF5ED...   \n",
       "3  1220928B57E5E8AB5347271846963668539471DB51284C...   \n",
       "4  1220036F9A72805F7389304A88F867DA28536218F58EE9...   \n",
       "\n",
       "                                            geometry  \n",
       "0  POLYGON ((5.95086 46.12266, 5.96379 46.12283, ...  \n",
       "1  POLYGON ((5.95086 46.12266, 5.96379 46.12283, ...  \n",
       "2  POLYGON ((5.95086 46.12266, 5.96379 46.12283, ...  \n",
       "3  POLYGON ((5.95086 46.12266, 5.96379 46.12283, ...  \n",
       "4  POLYGON ((5.95061 46.13166, 5.96355 46.13183, ...  "
      ]
     },
     "execution_count": 5,
     "metadata": {},
     "output_type": "execute_result"
    }
   ],
   "source": [
    "df.head()"
   ]
  },
  {
   "cell_type": "code",
   "execution_count": 6,
   "metadata": {},
   "outputs": [
    {
     "name": "stdout",
     "output_type": "stream",
     "text": [
      "['base']\n",
      "['image/tiff; application=geotiff; profile=cloud-optimized', 'application/x.ascii-xyz+zip']\n",
      "[0.5, 2.0]\n"
     ]
    }
   ],
   "source": [
    "print ( list(df['variant'].unique()) )\n",
    "print ( list(df['type'].unique()) )\n",
    "print ( list(df['gsd'].unique()) )"
   ]
  },
  {
   "cell_type": "code",
   "execution_count": 7,
   "metadata": {},
   "outputs": [],
   "source": [
    "df_geotiff = df.query('type == \"image/tiff; application=geotiff; profile=cloud-optimized\"') \n",
    "df_xyz = df.query('type == \"application/x.ascii-xyz+zip\"') "
   ]
  },
  {
   "cell_type": "code",
   "execution_count": 8,
   "metadata": {},
   "outputs": [
    {
     "data": {
      "text/plain": [
       "(87140, 87140)"
      ]
     },
     "execution_count": 8,
     "metadata": {},
     "output_type": "execute_result"
    }
   ],
   "source": [
    "len(df_geotiff), len(df_xyz)"
   ]
  },
  {
   "cell_type": "code",
   "execution_count": 9,
   "metadata": {},
   "outputs": [],
   "source": [
    "df_geotiff_50cm = df_geotiff.query(\"gsd == '0.5'\")"
   ]
  },
  {
   "cell_type": "code",
   "execution_count": 10,
   "metadata": {},
   "outputs": [
    {
     "data": {
      "text/plain": [
       "43570"
      ]
     },
     "execution_count": 10,
     "metadata": {},
     "output_type": "execute_result"
    }
   ],
   "source": [
    "len(df_geotiff_50cm)"
   ]
  },
  {
   "cell_type": "code",
   "execution_count": 11,
   "metadata": {},
   "outputs": [],
   "source": [
    "urls = stac.getUrlList(df_geotiff_50cm)"
   ]
  },
  {
   "cell_type": "code",
   "execution_count": 15,
   "metadata": {},
   "outputs": [
    {
     "data": {
      "text/plain": [
       "['https://data.geo.admin.ch/ch.swisstopo.swissalti3d/swissalti3d_2019_2485-1109/swissalti3d_2019_2485-1109_0.5_2056_5728.tif',\n",
       " 'https://data.geo.admin.ch/ch.swisstopo.swissalti3d/swissalti3d_2019_2485-1110/swissalti3d_2019_2485-1110_0.5_2056_5728.tif',\n",
       " 'https://data.geo.admin.ch/ch.swisstopo.swissalti3d/swissalti3d_2019_2486-1109/swissalti3d_2019_2486-1109_0.5_2056_5728.tif',\n",
       " 'https://data.geo.admin.ch/ch.swisstopo.swissalti3d/swissalti3d_2019_2486-1110/swissalti3d_2019_2486-1110_0.5_2056_5728.tif',\n",
       " 'https://data.geo.admin.ch/ch.swisstopo.swissalti3d/swissalti3d_2019_2486-1111/swissalti3d_2019_2486-1111_0.5_2056_5728.tif']"
      ]
     },
     "execution_count": 15,
     "metadata": {},
     "output_type": "execute_result"
    }
   ],
   "source": [
    "urls[0:5]"
   ]
  },
  {
   "cell_type": "code",
   "execution_count": null,
   "metadata": {},
   "outputs": [],
   "source": []
  }
 ],
 "metadata": {
  "kernelspec": {
   "display_name": "GeoPython",
   "language": "python",
   "name": "geopython"
  },
  "language_info": {
   "codemirror_mode": {
    "name": "ipython",
    "version": 3
   },
   "file_extension": ".py",
   "mimetype": "text/x-python",
   "name": "python",
   "nbconvert_exporter": "python",
   "pygments_lexer": "ipython3",
   "version": "3.7.7"
  }
 },
 "nbformat": 4,
 "nbformat_minor": 4
}
