{
 "cells": [
  {
   "cell_type": "markdown",
   "metadata": {},
   "source": [
    "## STAC API - SWISSIMAGE\n",
    "\n",
    "https://www.swisstopo.admin.ch/de/geodata/images/ortho/swissimage10.html\n",
    "\n",
    "* ``stac.getCollectionList(cache=True)``\n",
    "* ``df = stac.getAssets(\"ASSETNAME\")``\n",
    "* Eindeutigkeit Abfragen (z.B. Auflösung, Variante)\n",
    "* ``urls = stac.getUrlList(df_krel)``\n",
    "\n"
   ]
  },
  {
   "cell_type": "code",
   "execution_count": 1,
   "metadata": {},
   "outputs": [],
   "source": [
    "import geopandas as gpd\n",
    "import shapely\n",
    "import geopandas_stac as stac "
   ]
  },
  {
   "cell_type": "code",
   "execution_count": 2,
   "metadata": {},
   "outputs": [
    {
     "data": {
      "text/plain": [
       "['ch.bazl.luftfahrtkarten-icao',\n",
       " 'ch.bazl.segelflugkarte',\n",
       " 'ch.swisstopo.geoidmodell-ch1903',\n",
       " 'ch.swisstopo.landeskarte-farbe-10',\n",
       " 'ch.swisstopo.pixelkarte-farbe-pk100.noscale',\n",
       " 'ch.swisstopo.pixelkarte-farbe-pk200.noscale',\n",
       " 'ch.swisstopo.pixelkarte-farbe-pk25.noscale',\n",
       " 'ch.swisstopo.pixelkarte-farbe-pk50.noscale',\n",
       " 'ch.swisstopo.swissalti3d',\n",
       " 'ch.swisstopo.swissbathy3d',\n",
       " 'ch.swisstopo.swissboundaries3d',\n",
       " 'ch.swisstopo.swissbuildings3d_2',\n",
       " 'ch.swisstopo.swissimage-dop10',\n",
       " 'ch.swisstopo.swissnames3d',\n",
       " 'ch.swisstopo.swisssurface3d',\n",
       " 'ch.swisstopo.swisssurface3d-raster',\n",
       " 'ch.swisstopo.swisstlm3d',\n",
       " 'ch.swisstopo.swisstlmregio']"
      ]
     },
     "execution_count": 2,
     "metadata": {},
     "output_type": "execute_result"
    }
   ],
   "source": [
    "stac.getCollectionList(cache=True)"
   ]
  },
  {
   "cell_type": "code",
   "execution_count": 3,
   "metadata": {},
   "outputs": [],
   "source": [
    "df = stac.getAssets(\"ch.swisstopo.swissimage-dop10\")"
   ]
  },
  {
   "cell_type": "code",
   "execution_count": 4,
   "metadata": {},
   "outputs": [
    {
     "data": {
      "text/plain": [
       "98976"
      ]
     },
     "execution_count": 4,
     "metadata": {},
     "output_type": "execute_result"
    }
   ],
   "source": [
    "len(df)"
   ]
  },
  {
   "cell_type": "code",
   "execution_count": 5,
   "metadata": {},
   "outputs": [
    {
     "data": {
      "text/html": [
       "<div>\n",
       "<style scoped>\n",
       "    .dataframe tbody tr th:only-of-type {\n",
       "        vertical-align: middle;\n",
       "    }\n",
       "\n",
       "    .dataframe tbody tr th {\n",
       "        vertical-align: top;\n",
       "    }\n",
       "\n",
       "    .dataframe thead th {\n",
       "        text-align: right;\n",
       "    }\n",
       "</style>\n",
       "<table border=\"1\" class=\"dataframe\">\n",
       "  <thead>\n",
       "    <tr style=\"text-align: right;\">\n",
       "      <th></th>\n",
       "      <th>name</th>\n",
       "      <th>type</th>\n",
       "      <th>bbox</th>\n",
       "      <th>created</th>\n",
       "      <th>updated</th>\n",
       "      <th>href</th>\n",
       "      <th>proj</th>\n",
       "      <th>gsd</th>\n",
       "      <th>variant</th>\n",
       "      <th>checksum</th>\n",
       "      <th>geometry</th>\n",
       "    </tr>\n",
       "  </thead>\n",
       "  <tbody>\n",
       "    <tr>\n",
       "      <th>0</th>\n",
       "      <td>swissimage-dop10_2017_2517-1139_0.1_2056.tif</td>\n",
       "      <td>image/tiff; application=geotiff; profile=cloud...</td>\n",
       "      <td>[6.3592636, 46.3972115, 6.3724436, 46.4063295]</td>\n",
       "      <td>2021-02-17T19:53:27.917875Z</td>\n",
       "      <td>2021-02-17T19:53:27.917892Z</td>\n",
       "      <td>https://data.geo.admin.ch/ch.swisstopo.swissim...</td>\n",
       "      <td>2056</td>\n",
       "      <td>0.1</td>\n",
       "      <td>base</td>\n",
       "      <td>12203F961821F4E21013436D60B3DF8FEDE03455BBD093...</td>\n",
       "      <td>POLYGON ((6.35926 46.40621, 6.35944 46.39721, ...</td>\n",
       "    </tr>\n",
       "    <tr>\n",
       "      <th>1</th>\n",
       "      <td>swissimage-dop10_2017_2517-1139_2_2056.tif</td>\n",
       "      <td>image/tiff; application=geotiff; profile=cloud...</td>\n",
       "      <td>[6.3592636, 46.3972115, 6.3724436, 46.4063295]</td>\n",
       "      <td>2021-02-17T19:50:31.299233Z</td>\n",
       "      <td>2021-02-18T10:29:23.938409Z</td>\n",
       "      <td>https://data.geo.admin.ch/ch.swisstopo.swissim...</td>\n",
       "      <td>2056</td>\n",
       "      <td>2.0</td>\n",
       "      <td>base</td>\n",
       "      <td>12208EFDF580C56821C4B25F1426FC92D1C50A9DA324E9...</td>\n",
       "      <td>POLYGON ((6.35926 46.40621, 6.35944 46.39721, ...</td>\n",
       "    </tr>\n",
       "    <tr>\n",
       "      <th>2</th>\n",
       "      <td>swissimage-dop10_2017_2523-1181_0.1_2056.tif</td>\n",
       "      <td>image/tiff; application=geotiff; profile=cloud...</td>\n",
       "      <td>[6.4302511, 46.7757103, 6.4435119, 46.78482]</td>\n",
       "      <td>2021-02-17T22:42:21.943062Z</td>\n",
       "      <td>2021-02-17T22:42:21.943079Z</td>\n",
       "      <td>https://data.geo.admin.ch/ch.swisstopo.swissim...</td>\n",
       "      <td>2056</td>\n",
       "      <td>0.1</td>\n",
       "      <td>base</td>\n",
       "      <td>1220F186DF4669FF1509C066E51737C4F0B38ADED43599...</td>\n",
       "      <td>POLYGON ((6.43025 46.78471, 6.43042 46.77571, ...</td>\n",
       "    </tr>\n",
       "    <tr>\n",
       "      <th>3</th>\n",
       "      <td>swissimage-dop10_2017_2523-1181_2_2056.tif</td>\n",
       "      <td>image/tiff; application=geotiff; profile=cloud...</td>\n",
       "      <td>[6.4302511, 46.7757103, 6.4435119, 46.78482]</td>\n",
       "      <td>2021-02-17T20:14:31.569704Z</td>\n",
       "      <td>2021-02-18T11:35:22.080566Z</td>\n",
       "      <td>https://data.geo.admin.ch/ch.swisstopo.swissim...</td>\n",
       "      <td>2056</td>\n",
       "      <td>2.0</td>\n",
       "      <td>base</td>\n",
       "      <td>122076B64005E9699B7F447E16EC866EA190E2A63B3342...</td>\n",
       "      <td>POLYGON ((6.43025 46.78471, 6.43042 46.77571, ...</td>\n",
       "    </tr>\n",
       "    <tr>\n",
       "      <th>4</th>\n",
       "      <td>swissimage-dop10_2017_2539-1144_0.1_2056.tif</td>\n",
       "      <td>image/tiff; application=geotiff; profile=cloud...</td>\n",
       "      <td>[6.6446816, 46.4445528, 6.6578263, 46.4536384]</td>\n",
       "      <td>2021-02-17T20:34:38.322375Z</td>\n",
       "      <td>2021-02-17T20:34:38.322393Z</td>\n",
       "      <td>https://data.geo.admin.ch/ch.swisstopo.swissim...</td>\n",
       "      <td>2056</td>\n",
       "      <td>0.1</td>\n",
       "      <td>base</td>\n",
       "      <td>122020FC9163B3822E2C88957A65652C00B59E2D50BC33...</td>\n",
       "      <td>POLYGON ((6.64468 46.45355, 6.64481 46.44455, ...</td>\n",
       "    </tr>\n",
       "  </tbody>\n",
       "</table>\n",
       "</div>"
      ],
      "text/plain": [
       "                                           name  \\\n",
       "0  swissimage-dop10_2017_2517-1139_0.1_2056.tif   \n",
       "1    swissimage-dop10_2017_2517-1139_2_2056.tif   \n",
       "2  swissimage-dop10_2017_2523-1181_0.1_2056.tif   \n",
       "3    swissimage-dop10_2017_2523-1181_2_2056.tif   \n",
       "4  swissimage-dop10_2017_2539-1144_0.1_2056.tif   \n",
       "\n",
       "                                                type  \\\n",
       "0  image/tiff; application=geotiff; profile=cloud...   \n",
       "1  image/tiff; application=geotiff; profile=cloud...   \n",
       "2  image/tiff; application=geotiff; profile=cloud...   \n",
       "3  image/tiff; application=geotiff; profile=cloud...   \n",
       "4  image/tiff; application=geotiff; profile=cloud...   \n",
       "\n",
       "                                             bbox  \\\n",
       "0  [6.3592636, 46.3972115, 6.3724436, 46.4063295]   \n",
       "1  [6.3592636, 46.3972115, 6.3724436, 46.4063295]   \n",
       "2    [6.4302511, 46.7757103, 6.4435119, 46.78482]   \n",
       "3    [6.4302511, 46.7757103, 6.4435119, 46.78482]   \n",
       "4  [6.6446816, 46.4445528, 6.6578263, 46.4536384]   \n",
       "\n",
       "                       created                      updated  \\\n",
       "0  2021-02-17T19:53:27.917875Z  2021-02-17T19:53:27.917892Z   \n",
       "1  2021-02-17T19:50:31.299233Z  2021-02-18T10:29:23.938409Z   \n",
       "2  2021-02-17T22:42:21.943062Z  2021-02-17T22:42:21.943079Z   \n",
       "3  2021-02-17T20:14:31.569704Z  2021-02-18T11:35:22.080566Z   \n",
       "4  2021-02-17T20:34:38.322375Z  2021-02-17T20:34:38.322393Z   \n",
       "\n",
       "                                                href  proj  gsd variant  \\\n",
       "0  https://data.geo.admin.ch/ch.swisstopo.swissim...  2056  0.1    base   \n",
       "1  https://data.geo.admin.ch/ch.swisstopo.swissim...  2056  2.0    base   \n",
       "2  https://data.geo.admin.ch/ch.swisstopo.swissim...  2056  0.1    base   \n",
       "3  https://data.geo.admin.ch/ch.swisstopo.swissim...  2056  2.0    base   \n",
       "4  https://data.geo.admin.ch/ch.swisstopo.swissim...  2056  0.1    base   \n",
       "\n",
       "                                            checksum  \\\n",
       "0  12203F961821F4E21013436D60B3DF8FEDE03455BBD093...   \n",
       "1  12208EFDF580C56821C4B25F1426FC92D1C50A9DA324E9...   \n",
       "2  1220F186DF4669FF1509C066E51737C4F0B38ADED43599...   \n",
       "3  122076B64005E9699B7F447E16EC866EA190E2A63B3342...   \n",
       "4  122020FC9163B3822E2C88957A65652C00B59E2D50BC33...   \n",
       "\n",
       "                                            geometry  \n",
       "0  POLYGON ((6.35926 46.40621, 6.35944 46.39721, ...  \n",
       "1  POLYGON ((6.35926 46.40621, 6.35944 46.39721, ...  \n",
       "2  POLYGON ((6.43025 46.78471, 6.43042 46.77571, ...  \n",
       "3  POLYGON ((6.43025 46.78471, 6.43042 46.77571, ...  \n",
       "4  POLYGON ((6.64468 46.45355, 6.64481 46.44455, ...  "
      ]
     },
     "execution_count": 5,
     "metadata": {},
     "output_type": "execute_result"
    }
   ],
   "source": [
    "df.head()"
   ]
  },
  {
   "cell_type": "code",
   "execution_count": 6,
   "metadata": {},
   "outputs": [
    {
     "data": {
      "text/plain": [
       "['image/tiff; application=geotiff; profile=cloud-optimized']"
      ]
     },
     "execution_count": 6,
     "metadata": {},
     "output_type": "execute_result"
    }
   ],
   "source": [
    "list(df['type'].unique())"
   ]
  },
  {
   "cell_type": "code",
   "execution_count": 7,
   "metadata": {},
   "outputs": [
    {
     "data": {
      "text/plain": [
       "['base']"
      ]
     },
     "execution_count": 7,
     "metadata": {},
     "output_type": "execute_result"
    }
   ],
   "source": [
    "list(df['variant'].unique())"
   ]
  },
  {
   "cell_type": "code",
   "execution_count": 8,
   "metadata": {},
   "outputs": [
    {
     "data": {
      "text/plain": [
       "[0.1, 2.0]"
      ]
     },
     "execution_count": 8,
     "metadata": {},
     "output_type": "execute_result"
    }
   ],
   "source": [
    "list(df['gsd'].unique())"
   ]
  },
  {
   "cell_type": "code",
   "execution_count": 9,
   "metadata": {},
   "outputs": [],
   "source": [
    "df_swissimage_2m = df.query('gsd == \"2.0\"') # 2m Auflösung"
   ]
  },
  {
   "cell_type": "code",
   "execution_count": 10,
   "metadata": {},
   "outputs": [],
   "source": [
    "df_swissimage_10cm = df.query('gsd == \"0.1\"') # 0.1m Auflösung"
   ]
  },
  {
   "cell_type": "code",
   "execution_count": 11,
   "metadata": {},
   "outputs": [],
   "source": [
    "urls_2m = stac.getUrlList(df_swissimage_2m)"
   ]
  },
  {
   "cell_type": "code",
   "execution_count": 12,
   "metadata": {},
   "outputs": [
    {
     "data": {
      "text/plain": [
       "49488"
      ]
     },
     "execution_count": 12,
     "metadata": {},
     "output_type": "execute_result"
    }
   ],
   "source": [
    "len(urls_2m)"
   ]
  },
  {
   "cell_type": "code",
   "execution_count": 13,
   "metadata": {},
   "outputs": [
    {
     "data": {
      "text/plain": [
       "['https://data.geo.admin.ch/ch.swisstopo.swissimage-dop10/swissimage-dop10_2017_2517-1139/swissimage-dop10_2017_2517-1139_2_2056.tif',\n",
       " 'https://data.geo.admin.ch/ch.swisstopo.swissimage-dop10/swissimage-dop10_2017_2523-1181/swissimage-dop10_2017_2523-1181_2_2056.tif',\n",
       " 'https://data.geo.admin.ch/ch.swisstopo.swissimage-dop10/swissimage-dop10_2017_2539-1144/swissimage-dop10_2017_2539-1144_2_2056.tif',\n",
       " 'https://data.geo.admin.ch/ch.swisstopo.swissimage-dop10/swissimage-dop10_2017_2540-1144/swissimage-dop10_2017_2540-1144_2_2056.tif',\n",
       " 'https://data.geo.admin.ch/ch.swisstopo.swissimage-dop10/swissimage-dop10_2017_2544-1143/swissimage-dop10_2017_2544-1143_2_2056.tif']"
      ]
     },
     "execution_count": 13,
     "metadata": {},
     "output_type": "execute_result"
    }
   ],
   "source": [
    "urls_2m[0:5]"
   ]
  },
  {
   "cell_type": "markdown",
   "metadata": {},
   "source": [
    "Wir könnten jetzt theoretisch den gesamten Datensatz herunterladen..."
   ]
  },
  {
   "cell_type": "code",
   "execution_count": 14,
   "metadata": {},
   "outputs": [],
   "source": [
    "urls_10cm = stac.getUrlList(df_swissimage_10cm)"
   ]
  },
  {
   "cell_type": "code",
   "execution_count": 15,
   "metadata": {},
   "outputs": [
    {
     "data": {
      "text/plain": [
       "49488"
      ]
     },
     "execution_count": 15,
     "metadata": {},
     "output_type": "execute_result"
    }
   ],
   "source": [
    "len(urls_10cm)"
   ]
  },
  {
   "cell_type": "markdown",
   "metadata": {},
   "source": [
    "Analog für 10cm"
   ]
  },
  {
   "cell_type": "code",
   "execution_count": 16,
   "metadata": {},
   "outputs": [
    {
     "data": {
      "text/plain": [
       "['https://data.geo.admin.ch/ch.swisstopo.swissimage-dop10/swissimage-dop10_2017_2517-1139/swissimage-dop10_2017_2517-1139_0.1_2056.tif',\n",
       " 'https://data.geo.admin.ch/ch.swisstopo.swissimage-dop10/swissimage-dop10_2017_2523-1181/swissimage-dop10_2017_2523-1181_0.1_2056.tif',\n",
       " 'https://data.geo.admin.ch/ch.swisstopo.swissimage-dop10/swissimage-dop10_2017_2539-1144/swissimage-dop10_2017_2539-1144_0.1_2056.tif',\n",
       " 'https://data.geo.admin.ch/ch.swisstopo.swissimage-dop10/swissimage-dop10_2017_2540-1144/swissimage-dop10_2017_2540-1144_0.1_2056.tif',\n",
       " 'https://data.geo.admin.ch/ch.swisstopo.swissimage-dop10/swissimage-dop10_2017_2544-1143/swissimage-dop10_2017_2544-1143_0.1_2056.tif']"
      ]
     },
     "execution_count": 16,
     "metadata": {},
     "output_type": "execute_result"
    }
   ],
   "source": [
    "urls_10cm[0:5]"
   ]
  },
  {
   "cell_type": "markdown",
   "metadata": {},
   "source": [
    "File-Grösse abfragen (nur HTTP Header herunterladen)"
   ]
  },
  {
   "cell_type": "code",
   "execution_count": 17,
   "metadata": {},
   "outputs": [],
   "source": [
    "import urllib.request\n",
    "\n",
    "file = urllib.request.urlopen(\"https://data.geo.admin.ch/ch.swisstopo.swissimage-dop10/swissimage-dop10_2020_2558-1114/swissimage-dop10_2020_2558-1114_0.1_2056.tif\")"
   ]
  },
  {
   "cell_type": "code",
   "execution_count": 18,
   "metadata": {},
   "outputs": [
    {
     "name": "stdout",
     "output_type": "stream",
     "text": [
      "47060416 B\n",
      "45957.4375 KB\n",
      "44.88031005859375 MB\n"
     ]
    }
   ],
   "source": [
    "s = file.length\n",
    "print(s, \"B\")\n",
    "print(s/1024, \"KB\")\n",
    "print(s/1024/1024, \"MB\")"
   ]
  },
  {
   "cell_type": "markdown",
   "metadata": {},
   "source": [
    "Bundeshaus"
   ]
  },
  {
   "cell_type": "code",
   "execution_count": 19,
   "metadata": {},
   "outputs": [],
   "source": [
    "lat = 46.94653998135123\n",
    "lng = 7.444120726365559"
   ]
  },
  {
   "cell_type": "code",
   "execution_count": 20,
   "metadata": {},
   "outputs": [],
   "source": [
    "point = shapely.geometry.Point(lng, lat)\n",
    "bundeshaus_punkt = gpd.GeoDataFrame(geometry=gpd.GeoSeries(point, crs=\"epsg:4326\"))"
   ]
  },
  {
   "cell_type": "code",
   "execution_count": 21,
   "metadata": {},
   "outputs": [],
   "source": [
    "df_bundeshaus_10cm = gpd.sjoin(df_swissimage_10cm, bundeshaus_punkt, op='contains')"
   ]
  },
  {
   "cell_type": "code",
   "execution_count": 22,
   "metadata": {},
   "outputs": [
    {
     "data": {
      "text/html": [
       "<div>\n",
       "<style scoped>\n",
       "    .dataframe tbody tr th:only-of-type {\n",
       "        vertical-align: middle;\n",
       "    }\n",
       "\n",
       "    .dataframe tbody tr th {\n",
       "        vertical-align: top;\n",
       "    }\n",
       "\n",
       "    .dataframe thead th {\n",
       "        text-align: right;\n",
       "    }\n",
       "</style>\n",
       "<table border=\"1\" class=\"dataframe\">\n",
       "  <thead>\n",
       "    <tr style=\"text-align: right;\">\n",
       "      <th></th>\n",
       "      <th>name</th>\n",
       "      <th>type</th>\n",
       "      <th>bbox</th>\n",
       "      <th>created</th>\n",
       "      <th>updated</th>\n",
       "      <th>href</th>\n",
       "      <th>proj</th>\n",
       "      <th>gsd</th>\n",
       "      <th>variant</th>\n",
       "      <th>checksum</th>\n",
       "      <th>geometry</th>\n",
       "      <th>index_right</th>\n",
       "    </tr>\n",
       "  </thead>\n",
       "  <tbody>\n",
       "    <tr>\n",
       "      <th>13530</th>\n",
       "      <td>swissimage-dop10_2018_2600-1199_0.1_2056.tif</td>\n",
       "      <td>image/tiff; application=geotiff; profile=cloud...</td>\n",
       "      <td>[7.4386324, 46.9420869, 7.4517685, 46.9510828]</td>\n",
       "      <td>2021-02-17T21:49:47.581013Z</td>\n",
       "      <td>2021-02-17T21:49:47.581032Z</td>\n",
       "      <td>https://data.geo.admin.ch/ch.swisstopo.swissim...</td>\n",
       "      <td>2056</td>\n",
       "      <td>0.1</td>\n",
       "      <td>base</td>\n",
       "      <td>12205BC09945303C658EA42D81A50D777494A27F27B79A...</td>\n",
       "      <td>POLYGON ((7.43863 46.95108, 7.43863 46.94209, ...</td>\n",
       "      <td>0</td>\n",
       "    </tr>\n",
       "  </tbody>\n",
       "</table>\n",
       "</div>"
      ],
      "text/plain": [
       "                                               name  \\\n",
       "13530  swissimage-dop10_2018_2600-1199_0.1_2056.tif   \n",
       "\n",
       "                                                    type  \\\n",
       "13530  image/tiff; application=geotiff; profile=cloud...   \n",
       "\n",
       "                                                 bbox  \\\n",
       "13530  [7.4386324, 46.9420869, 7.4517685, 46.9510828]   \n",
       "\n",
       "                           created                      updated  \\\n",
       "13530  2021-02-17T21:49:47.581013Z  2021-02-17T21:49:47.581032Z   \n",
       "\n",
       "                                                    href  proj  gsd variant  \\\n",
       "13530  https://data.geo.admin.ch/ch.swisstopo.swissim...  2056  0.1    base   \n",
       "\n",
       "                                                checksum  \\\n",
       "13530  12205BC09945303C658EA42D81A50D777494A27F27B79A...   \n",
       "\n",
       "                                                geometry  index_right  \n",
       "13530  POLYGON ((7.43863 46.95108, 7.43863 46.94209, ...            0  "
      ]
     },
     "execution_count": 22,
     "metadata": {},
     "output_type": "execute_result"
    }
   ],
   "source": [
    "df_bundeshaus_10cm"
   ]
  },
  {
   "cell_type": "code",
   "execution_count": 23,
   "metadata": {},
   "outputs": [],
   "source": [
    "bundeshaus = stac.getUrlList(df_bundeshaus_10cm)"
   ]
  },
  {
   "cell_type": "code",
   "execution_count": 25,
   "metadata": {},
   "outputs": [
    {
     "data": {
      "text/plain": [
       "['https://data.geo.admin.ch/ch.swisstopo.swissimage-dop10/swissimage-dop10_2018_2600-1199/swissimage-dop10_2018_2600-1199_0.1_2056.tif']"
      ]
     },
     "execution_count": 25,
     "metadata": {},
     "output_type": "execute_result"
    }
   ],
   "source": [
    "bundeshaus"
   ]
  },
  {
   "cell_type": "code",
   "execution_count": null,
   "metadata": {},
   "outputs": [],
   "source": []
  }
 ],
 "metadata": {
  "kernelspec": {
   "display_name": "GeoPython",
   "language": "python",
   "name": "geopython"
  },
  "language_info": {
   "codemirror_mode": {
    "name": "ipython",
    "version": 3
   },
   "file_extension": ".py",
   "mimetype": "text/x-python",
   "name": "python",
   "nbconvert_exporter": "python",
   "pygments_lexer": "ipython3",
   "version": "3.7.7"
  }
 },
 "nbformat": 4,
 "nbformat_minor": 4
}
