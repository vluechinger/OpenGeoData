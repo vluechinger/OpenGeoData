{
 "cells": [
  {
   "cell_type": "markdown",
   "metadata": {},
   "source": [
    "## STAC API\n",
    "\n",
    "<img src=\"https://raw.githubusercontent.com/radiantearth/stac-site/master/images/logo/stac-030-long.png\" width=\"30%\"></img>\n",
    "\n",
    "https://stacspec.org/\n"
   ]
  },
  {
   "cell_type": "markdown",
   "metadata": {},
   "source": [
    "### Swisstopo STAC\n",
    "\n",
    "https://www.geo.admin.ch/de/geo-dienstleistungen/geodienste/downloadienste/stac-api.html\n",
    "\n",
    "Root: https://data.geo.admin.ch/api/stac/v0.9/\n",
    "\n",
    "Siehe auch Katalog: https://stacindex.org/catalogs/datageoadminch#/\n",
    "\n",
    "\n",
    "**API - Abfrageendpunkte**\n",
    "\n",
    "| Endpoint | Description |\n",
    "|----------|---------------|\n",
    "| /        | Liefert die API-Capabilities |\n",
    "| /conformance | Info über die Standards, mit denen die API konform ist |\n",
    "| /collections | Verfügbare Datensätze auflisten (Collections) |\n",
    "| /collections/{collectionId} | Liefert Metadaten der einzelnen Collection (JSON) |\n",
    "| /collections/{collectionId}/items | Liefert die Items in der Collection (GeoJSON) |\n",
    "| /collections/{collectionId}/items/{featureId} |iefert ein einzelnes Item (GeoJSON) |\n",
    "| /search | Liefert eine Liste von Items, die den Abfrageparametern entsprechen. Ähnlich wie /collections/{collectionId}/items, führt jedoch die Filterung über alle Collections durch |\n",
    "\n",
    "\n"
   ]
  },
  {
   "cell_type": "markdown",
   "metadata": {},
   "source": [
    "JSON enthält unter anderem bounding box immer in WGS84 (damit weltweit anwendbar), aber die Daten selber sind in LV95 für die Schweiz."
   ]
  },
  {
   "cell_type": "markdown",
   "metadata": {},
   "source": [
    "### PyStac Client\n",
    "\n",
    "* eine **einfache** Implementation um swisstopo STAC zu lesen gibt es mit geopandas_stac.py, https://github.com/martinchristen/python-stac-api/\n",
    "\n",
    "* In Zukunft werden voraussichtlich auch https://github.com/stac-utils/pystac-client und https://github.com/brazil-data-cube/stac.py den swisstopo STAC unterstützen, siehe: https://github.com/martinchristen/python-stac-api/issues/1\n"
   ]
  },
  {
   "cell_type": "code",
   "execution_count": 1,
   "metadata": {},
   "outputs": [],
   "source": [
    "import geopandas as gpd\n",
    "import shapely\n",
    "import geopandas_stac as stac "
   ]
  },
  {
   "cell_type": "markdown",
   "metadata": {},
   "source": [
    "## Katalog anzeigen"
   ]
  },
  {
   "cell_type": "code",
   "execution_count": 2,
   "metadata": {},
   "outputs": [
    {
     "data": {
      "text/html": [
       "<div>\n",
       "<style scoped>\n",
       "    .dataframe tbody tr th:only-of-type {\n",
       "        vertical-align: middle;\n",
       "    }\n",
       "\n",
       "    .dataframe tbody tr th {\n",
       "        vertical-align: top;\n",
       "    }\n",
       "\n",
       "    .dataframe thead th {\n",
       "        text-align: right;\n",
       "    }\n",
       "</style>\n",
       "<table border=\"1\" class=\"dataframe\">\n",
       "  <thead>\n",
       "    <tr style=\"text-align: right;\">\n",
       "      <th></th>\n",
       "      <th>stac_version</th>\n",
       "      <th>id</th>\n",
       "      <th>title</th>\n",
       "      <th>description</th>\n",
       "      <th>summaries</th>\n",
       "      <th>extent</th>\n",
       "      <th>providers</th>\n",
       "      <th>license</th>\n",
       "      <th>created</th>\n",
       "      <th>updated</th>\n",
       "      <th>links</th>\n",
       "      <th>crs</th>\n",
       "      <th>itemType</th>\n",
       "    </tr>\n",
       "  </thead>\n",
       "  <tbody>\n",
       "    <tr>\n",
       "      <th>0</th>\n",
       "      <td>0.9.0</td>\n",
       "      <td>ch.bazl.luftfahrtkarten-icao</td>\n",
       "      <td>Aeronautical Chart ICAO Switzerland 1:500'000</td>\n",
       "      <td>The official Aeronautical Chart ICAO 1:500'000...</td>\n",
       "      <td>{'eo:gsd': [50.0], 'proj:epsg': [2056], 'geoad...</td>\n",
       "      <td>{'spatial': {'bbox': [[5.3385637, 45.5403468, ...</td>\n",
       "      <td>[{'name': 'Federal Office of Topography - swis...</td>\n",
       "      <td>proprietary</td>\n",
       "      <td>2021-06-29T13:15:26.512064Z</td>\n",
       "      <td>2021-07-06T11:31:18.685971Z</td>\n",
       "      <td>[{'rel': 'self', 'href': 'https://data.geo.adm...</td>\n",
       "      <td>[http://www.opengis.net/def/crs/OGC/1.3/CRS84]</td>\n",
       "      <td>Feature</td>\n",
       "    </tr>\n",
       "    <tr>\n",
       "      <th>1</th>\n",
       "      <td>0.9.0</td>\n",
       "      <td>ch.bazl.segelflugkarte</td>\n",
       "      <td>Glider Chart Switzerland 1:300'000</td>\n",
       "      <td>The Glider Map 1:300'000 is published in coope...</td>\n",
       "      <td>{'eo:gsd': [30.0], 'proj:epsg': [2056], 'geoad...</td>\n",
       "      <td>{'spatial': {'bbox': [[5.8350985, 45.6662576, ...</td>\n",
       "      <td>[{'name': 'Federal Office of Topography - swis...</td>\n",
       "      <td>proprietary</td>\n",
       "      <td>2021-07-07T07:37:02.804312Z</td>\n",
       "      <td>2021-07-07T07:44:37.560757Z</td>\n",
       "      <td>[{'rel': 'self', 'href': 'https://data.geo.adm...</td>\n",
       "      <td>[http://www.opengis.net/def/crs/OGC/1.3/CRS84]</td>\n",
       "      <td>Feature</td>\n",
       "    </tr>\n",
       "    <tr>\n",
       "      <th>2</th>\n",
       "      <td>0.9.0</td>\n",
       "      <td>ch.swisstopo.geoidmodell-ch1903</td>\n",
       "      <td>Geoid model CHGeo2004 in CH1903</td>\n",
       "      <td>Swiss geoid model in the version of 2004 (CHGe...</td>\n",
       "      <td>{'proj:epsg': [2056]}</td>\n",
       "      <td>{'spatial': {'bbox': [[5.8282818, 45.6446766, ...</td>\n",
       "      <td>[{'name': 'Federal Office of Topography - swis...</td>\n",
       "      <td>proprietary</td>\n",
       "      <td>2021-06-29T13:57:48.808969Z</td>\n",
       "      <td>2021-07-12T11:41:32.214573Z</td>\n",
       "      <td>[{'rel': 'self', 'href': 'https://data.geo.adm...</td>\n",
       "      <td>[http://www.opengis.net/def/crs/OGC/1.3/CRS84]</td>\n",
       "      <td>Feature</td>\n",
       "    </tr>\n",
       "    <tr>\n",
       "      <th>3</th>\n",
       "      <td>0.9.0</td>\n",
       "      <td>ch.swisstopo.landeskarte-farbe-10</td>\n",
       "      <td>National Map 1:10'000 (color)</td>\n",
       "      <td>The 1:10,000 national map is swisstopo’s large...</td>\n",
       "      <td>{'eo:gsd': [0.5], 'proj:epsg': [2056], 'geoadm...</td>\n",
       "      <td>{'spatial': {'bbox': [[5.8828491, 45.804464, 1...</td>\n",
       "      <td>[{'name': 'Federal Office of Topography - swis...</td>\n",
       "      <td>proprietary</td>\n",
       "      <td>2021-02-11T12:16:13.231366Z</td>\n",
       "      <td>2021-08-06T11:18:21.378698Z</td>\n",
       "      <td>[{'rel': 'self', 'href': 'https://data.geo.adm...</td>\n",
       "      <td>[http://www.opengis.net/def/crs/OGC/1.3/CRS84]</td>\n",
       "      <td>Feature</td>\n",
       "    </tr>\n",
       "    <tr>\n",
       "      <th>4</th>\n",
       "      <td>0.9.0</td>\n",
       "      <td>ch.swisstopo.pixelkarte-farbe-pk100.noscale</td>\n",
       "      <td>National Map 1:100'000</td>\n",
       "      <td>The National Map 1:100,000 is a supra-regional...</td>\n",
       "      <td>{'eo:gsd': [5.0], 'proj:epsg': [2056], 'geoadm...</td>\n",
       "      <td>{'spatial': {'bbox': [[5.8481166, 45.6908726, ...</td>\n",
       "      <td>[{'name': 'Federal Office of Topography - swis...</td>\n",
       "      <td>proprietary</td>\n",
       "      <td>2021-02-12T14:11:34.606807Z</td>\n",
       "      <td>2021-06-10T14:21:16.334325Z</td>\n",
       "      <td>[{'rel': 'self', 'href': 'https://data.geo.adm...</td>\n",
       "      <td>[http://www.opengis.net/def/crs/OGC/1.3/CRS84]</td>\n",
       "      <td>Feature</td>\n",
       "    </tr>\n",
       "    <tr>\n",
       "      <th>5</th>\n",
       "      <td>0.9.0</td>\n",
       "      <td>ch.swisstopo.pixelkarte-farbe-pk200.noscale</td>\n",
       "      <td>National Map 1:200'000</td>\n",
       "      <td>The National Map 1:200,000 is a topographic ma...</td>\n",
       "      <td>{'eo:gsd': [10.0], 'proj:epsg': [2056], 'geoad...</td>\n",
       "      <td>{'spatial': {'bbox': [[5.6024076, 45.5039364, ...</td>\n",
       "      <td>[{'name': 'Federal Office of Topography - swis...</td>\n",
       "      <td>proprietary</td>\n",
       "      <td>2021-02-17T16:19:41.548907Z</td>\n",
       "      <td>2021-02-17T16:35:27.327876Z</td>\n",
       "      <td>[{'rel': 'self', 'href': 'https://data.geo.adm...</td>\n",
       "      <td>[http://www.opengis.net/def/crs/OGC/1.3/CRS84]</td>\n",
       "      <td>Feature</td>\n",
       "    </tr>\n",
       "    <tr>\n",
       "      <th>6</th>\n",
       "      <td>0.9.0</td>\n",
       "      <td>ch.swisstopo.pixelkarte-farbe-pk25.noscale</td>\n",
       "      <td>National Map 1:25'000</td>\n",
       "      <td>The National Map 1:25,000 is a topographic map...</td>\n",
       "      <td>{'eo:gsd': [1.25], 'proj:epsg': [2056], 'geoad...</td>\n",
       "      <td>{'spatial': {'bbox': [[5.8735276, 45.8026814, ...</td>\n",
       "      <td>[{'name': 'Federal Office of Topography - swis...</td>\n",
       "      <td>proprietary</td>\n",
       "      <td>2021-02-12T14:11:04.628928Z</td>\n",
       "      <td>2021-08-12T13:14:24.665302Z</td>\n",
       "      <td>[{'rel': 'self', 'href': 'https://data.geo.adm...</td>\n",
       "      <td>[http://www.opengis.net/def/crs/OGC/1.3/CRS84]</td>\n",
       "      <td>Feature</td>\n",
       "    </tr>\n",
       "    <tr>\n",
       "      <th>7</th>\n",
       "      <td>0.9.0</td>\n",
       "      <td>ch.swisstopo.pixelkarte-farbe-pk50.noscale</td>\n",
       "      <td>National Map 1:50'000</td>\n",
       "      <td>The National Map 1:50,000 is a topographic map...</td>\n",
       "      <td>{'eo:gsd': [2.5], 'proj:epsg': [2056], 'geoadm...</td>\n",
       "      <td>{'spatial': {'bbox': [[5.8672512, 45.6908726, ...</td>\n",
       "      <td>[{'name': 'Federal Office of Topography - swis...</td>\n",
       "      <td>proprietary</td>\n",
       "      <td>2021-02-12T14:09:05.522958Z</td>\n",
       "      <td>2021-06-08T12:33:47.307670Z</td>\n",
       "      <td>[{'rel': 'self', 'href': 'https://data.geo.adm...</td>\n",
       "      <td>[http://www.opengis.net/def/crs/OGC/1.3/CRS84]</td>\n",
       "      <td>Feature</td>\n",
       "    </tr>\n",
       "    <tr>\n",
       "      <th>8</th>\n",
       "      <td>0.9.0</td>\n",
       "      <td>ch.swisstopo.swissalti3d</td>\n",
       "      <td>swissALTI3D</td>\n",
       "      <td>swissALTI3D is an extremely precise digital el...</td>\n",
       "      <td>{'eo:gsd': [0.5, 2.0], 'proj:epsg': [2056]}</td>\n",
       "      <td>{'spatial': {'bbox': [[5.9503666, 45.7213375, ...</td>\n",
       "      <td>[{'name': 'Federal Office of Topography - swis...</td>\n",
       "      <td>proprietary</td>\n",
       "      <td>2021-02-05T13:54:56.380277Z</td>\n",
       "      <td>2021-02-10T18:17:29.578207Z</td>\n",
       "      <td>[{'rel': 'self', 'href': 'https://data.geo.adm...</td>\n",
       "      <td>[http://www.opengis.net/def/crs/OGC/1.3/CRS84]</td>\n",
       "      <td>Feature</td>\n",
       "    </tr>\n",
       "    <tr>\n",
       "      <th>9</th>\n",
       "      <td>0.9.0</td>\n",
       "      <td>ch.swisstopo.swissbathy3d</td>\n",
       "      <td>swissBATHY3D, Bathymetric data of Swiss lakes</td>\n",
       "      <td>swissBATHY3D contains bathymetric data in the ...</td>\n",
       "      <td>{'proj:epsg': [2056]}</td>\n",
       "      <td>{'spatial': {'bbox': [[6.1223815, 46.1968631, ...</td>\n",
       "      <td>[{'name': 'Federal Office of Topography - swis...</td>\n",
       "      <td>proprietary</td>\n",
       "      <td>2021-06-03T12:40:39.684710Z</td>\n",
       "      <td>2021-07-12T12:26:52.541044Z</td>\n",
       "      <td>[{'rel': 'self', 'href': 'https://data.geo.adm...</td>\n",
       "      <td>[http://www.opengis.net/def/crs/OGC/1.3/CRS84]</td>\n",
       "      <td>Feature</td>\n",
       "    </tr>\n",
       "    <tr>\n",
       "      <th>10</th>\n",
       "      <td>0.9.0</td>\n",
       "      <td>ch.swisstopo.swissboundaries3d</td>\n",
       "      <td>swissBOUNDARIES3D</td>\n",
       "      <td>swissBOUNDARIES3D contains all administrative ...</td>\n",
       "      <td>{'proj:epsg': [2056]}</td>\n",
       "      <td>{'spatial': {'bbox': [[5.2229406, 45.3204053, ...</td>\n",
       "      <td>[{'name': 'Federal Office of Topography - swis...</td>\n",
       "      <td>proprietary</td>\n",
       "      <td>2021-06-29T13:16:42.523888Z</td>\n",
       "      <td>2021-07-12T14:21:03.576477Z</td>\n",
       "      <td>[{'rel': 'self', 'href': 'https://data.geo.adm...</td>\n",
       "      <td>[http://www.opengis.net/def/crs/OGC/1.3/CRS84]</td>\n",
       "      <td>Feature</td>\n",
       "    </tr>\n",
       "    <tr>\n",
       "      <th>11</th>\n",
       "      <td>0.9.0</td>\n",
       "      <td>ch.swisstopo.swissbuildings3d_2</td>\n",
       "      <td>swissBUILDINGS3D 2.0</td>\n",
       "      <td>swissBUILDINGS3D 2.0 is a vector based dataset...</td>\n",
       "      <td>{'proj:epsg': [2056]}</td>\n",
       "      <td>{'spatial': {'bbox': [[5.2229406, 45.3204053, ...</td>\n",
       "      <td>[{'name': 'Federal Office of Topography - swis...</td>\n",
       "      <td>proprietary</td>\n",
       "      <td>2021-02-05T13:59:25.768347Z</td>\n",
       "      <td>2021-07-12T12:28:08.829245Z</td>\n",
       "      <td>[{'rel': 'self', 'href': 'https://data.geo.adm...</td>\n",
       "      <td>[http://www.opengis.net/def/crs/OGC/1.3/CRS84]</td>\n",
       "      <td>Feature</td>\n",
       "    </tr>\n",
       "    <tr>\n",
       "      <th>12</th>\n",
       "      <td>0.9.0</td>\n",
       "      <td>ch.swisstopo.swissimage-dop10</td>\n",
       "      <td>SWISSIMAGE 10 cm, digital orthophotomosaic of ...</td>\n",
       "      <td>The orthophoto mosaic SWISSIMAGE 10 cm is a co...</td>\n",
       "      <td>{'eo:gsd': [0.1, 2.0], 'proj:epsg': [2056]}</td>\n",
       "      <td>{'spatial': {'bbox': [[5.9503666, 45.8151271, ...</td>\n",
       "      <td>[{'name': 'Federal Office of Topography - swis...</td>\n",
       "      <td>proprietary</td>\n",
       "      <td>2021-02-11T12:15:20.683068Z</td>\n",
       "      <td>2021-07-15T08:05:57.111081Z</td>\n",
       "      <td>[{'rel': 'self', 'href': 'https://data.geo.adm...</td>\n",
       "      <td>[http://www.opengis.net/def/crs/OGC/1.3/CRS84]</td>\n",
       "      <td>Feature</td>\n",
       "    </tr>\n",
       "    <tr>\n",
       "      <th>13</th>\n",
       "      <td>0.9.0</td>\n",
       "      <td>ch.swisstopo.swissnames3d</td>\n",
       "      <td>swissNAMES3D geographical names of the nationa...</td>\n",
       "      <td>swissNAMES3D is the most comprehensive collect...</td>\n",
       "      <td>{'proj:epsg': [2056]}</td>\n",
       "      <td>{'spatial': {'bbox': [[5.2229406, 45.3204053, ...</td>\n",
       "      <td>[{'name': 'Federal Office of Topography - swis...</td>\n",
       "      <td>proprietary</td>\n",
       "      <td>2021-06-29T13:19:35.140748Z</td>\n",
       "      <td>2021-07-15T10:41:01.737510Z</td>\n",
       "      <td>[{'rel': 'self', 'href': 'https://data.geo.adm...</td>\n",
       "      <td>[http://www.opengis.net/def/crs/OGC/1.3/CRS84]</td>\n",
       "      <td>Feature</td>\n",
       "    </tr>\n",
       "    <tr>\n",
       "      <th>14</th>\n",
       "      <td>0.9.0</td>\n",
       "      <td>ch.swisstopo.swisssurface3d</td>\n",
       "      <td>swissSURFACE3D</td>\n",
       "      <td>swissSURFACE3D models all natural and man-made...</td>\n",
       "      <td>{'proj:epsg': [2056]}</td>\n",
       "      <td>{'spatial': {'bbox': [[5.9503666, 45.8151271, ...</td>\n",
       "      <td>[{'name': 'Federal Office of Topography - swis...</td>\n",
       "      <td>proprietary</td>\n",
       "      <td>2021-02-23T09:45:32.902005Z</td>\n",
       "      <td>2021-08-14T00:03:15.843237Z</td>\n",
       "      <td>[{'rel': 'self', 'href': 'https://data.geo.adm...</td>\n",
       "      <td>[http://www.opengis.net/def/crs/OGC/1.3/CRS84]</td>\n",
       "      <td>Feature</td>\n",
       "    </tr>\n",
       "    <tr>\n",
       "      <th>15</th>\n",
       "      <td>0.9.0</td>\n",
       "      <td>ch.swisstopo.swisssurface3d-raster</td>\n",
       "      <td>swissSURFACE3D Raster</td>\n",
       "      <td>swissSURFACE3D Raster is a digital surface mod...</td>\n",
       "      <td>{'eo:gsd': [0.5], 'proj:epsg': [2056]}</td>\n",
       "      <td>{'spatial': {'bbox': [[5.9503666, 45.7213375, ...</td>\n",
       "      <td>[{'name': 'Federal Office of Topography - swis...</td>\n",
       "      <td>proprietary</td>\n",
       "      <td>2021-03-18T12:50:08.473325Z</td>\n",
       "      <td>2021-05-07T15:34:04.625057Z</td>\n",
       "      <td>[{'rel': 'self', 'href': 'https://data.geo.adm...</td>\n",
       "      <td>[http://www.opengis.net/def/crs/OGC/1.3/CRS84]</td>\n",
       "      <td>Feature</td>\n",
       "    </tr>\n",
       "    <tr>\n",
       "      <th>16</th>\n",
       "      <td>0.9.0</td>\n",
       "      <td>ch.swisstopo.swisstlm3d</td>\n",
       "      <td>swissTLM3D</td>\n",
       "      <td>swissTLM3D is the large-scale topographical la...</td>\n",
       "      <td>{'proj:epsg': [2056]}</td>\n",
       "      <td>{'spatial': {'bbox': [[5.2229406, 45.3204053, ...</td>\n",
       "      <td>[{'name': 'Federal Office of Topography - swis...</td>\n",
       "      <td>proprietary</td>\n",
       "      <td>2021-02-05T13:57:36.712903Z</td>\n",
       "      <td>2021-07-12T12:26:37.314352Z</td>\n",
       "      <td>[{'rel': 'self', 'href': 'https://data.geo.adm...</td>\n",
       "      <td>[http://www.opengis.net/def/crs/OGC/1.3/CRS84]</td>\n",
       "      <td>Feature</td>\n",
       "    </tr>\n",
       "    <tr>\n",
       "      <th>17</th>\n",
       "      <td>0.9.0</td>\n",
       "      <td>ch.swisstopo.swisstlmregio</td>\n",
       "      <td>swissTLMRegio</td>\n",
       "      <td>swissTLMRegio is a 2D landscape model, which r...</td>\n",
       "      <td>{'proj:epsg': [2056]}</td>\n",
       "      <td>{'spatial': {'bbox': [[5.32721330590548, 45.30...</td>\n",
       "      <td>[{'name': 'Federal Office of Topography - swis...</td>\n",
       "      <td>proprietary</td>\n",
       "      <td>2021-03-24T12:22:56.352773Z</td>\n",
       "      <td>2021-03-24T12:27:02.713472Z</td>\n",
       "      <td>[{'rel': 'self', 'href': 'https://data.geo.adm...</td>\n",
       "      <td>[http://www.opengis.net/def/crs/OGC/1.3/CRS84]</td>\n",
       "      <td>Feature</td>\n",
       "    </tr>\n",
       "  </tbody>\n",
       "</table>\n",
       "</div>"
      ],
      "text/plain": [
       "   stac_version                                           id  \\\n",
       "0         0.9.0                 ch.bazl.luftfahrtkarten-icao   \n",
       "1         0.9.0                       ch.bazl.segelflugkarte   \n",
       "2         0.9.0              ch.swisstopo.geoidmodell-ch1903   \n",
       "3         0.9.0            ch.swisstopo.landeskarte-farbe-10   \n",
       "4         0.9.0  ch.swisstopo.pixelkarte-farbe-pk100.noscale   \n",
       "5         0.9.0  ch.swisstopo.pixelkarte-farbe-pk200.noscale   \n",
       "6         0.9.0   ch.swisstopo.pixelkarte-farbe-pk25.noscale   \n",
       "7         0.9.0   ch.swisstopo.pixelkarte-farbe-pk50.noscale   \n",
       "8         0.9.0                     ch.swisstopo.swissalti3d   \n",
       "9         0.9.0                    ch.swisstopo.swissbathy3d   \n",
       "10        0.9.0               ch.swisstopo.swissboundaries3d   \n",
       "11        0.9.0              ch.swisstopo.swissbuildings3d_2   \n",
       "12        0.9.0                ch.swisstopo.swissimage-dop10   \n",
       "13        0.9.0                    ch.swisstopo.swissnames3d   \n",
       "14        0.9.0                  ch.swisstopo.swisssurface3d   \n",
       "15        0.9.0           ch.swisstopo.swisssurface3d-raster   \n",
       "16        0.9.0                      ch.swisstopo.swisstlm3d   \n",
       "17        0.9.0                   ch.swisstopo.swisstlmregio   \n",
       "\n",
       "                                                title  \\\n",
       "0       Aeronautical Chart ICAO Switzerland 1:500'000   \n",
       "1                  Glider Chart Switzerland 1:300'000   \n",
       "2                     Geoid model CHGeo2004 in CH1903   \n",
       "3                       National Map 1:10'000 (color)   \n",
       "4                              National Map 1:100'000   \n",
       "5                              National Map 1:200'000   \n",
       "6                               National Map 1:25'000   \n",
       "7                               National Map 1:50'000   \n",
       "8                                         swissALTI3D   \n",
       "9       swissBATHY3D, Bathymetric data of Swiss lakes   \n",
       "10                                  swissBOUNDARIES3D   \n",
       "11                               swissBUILDINGS3D 2.0   \n",
       "12  SWISSIMAGE 10 cm, digital orthophotomosaic of ...   \n",
       "13  swissNAMES3D geographical names of the nationa...   \n",
       "14                                     swissSURFACE3D   \n",
       "15                              swissSURFACE3D Raster   \n",
       "16                                         swissTLM3D   \n",
       "17                                      swissTLMRegio   \n",
       "\n",
       "                                          description  \\\n",
       "0   The official Aeronautical Chart ICAO 1:500'000...   \n",
       "1   The Glider Map 1:300'000 is published in coope...   \n",
       "2   Swiss geoid model in the version of 2004 (CHGe...   \n",
       "3   The 1:10,000 national map is swisstopo’s large...   \n",
       "4   The National Map 1:100,000 is a supra-regional...   \n",
       "5   The National Map 1:200,000 is a topographic ma...   \n",
       "6   The National Map 1:25,000 is a topographic map...   \n",
       "7   The National Map 1:50,000 is a topographic map...   \n",
       "8   swissALTI3D is an extremely precise digital el...   \n",
       "9   swissBATHY3D contains bathymetric data in the ...   \n",
       "10  swissBOUNDARIES3D contains all administrative ...   \n",
       "11  swissBUILDINGS3D 2.0 is a vector based dataset...   \n",
       "12  The orthophoto mosaic SWISSIMAGE 10 cm is a co...   \n",
       "13  swissNAMES3D is the most comprehensive collect...   \n",
       "14  swissSURFACE3D models all natural and man-made...   \n",
       "15  swissSURFACE3D Raster is a digital surface mod...   \n",
       "16  swissTLM3D is the large-scale topographical la...   \n",
       "17  swissTLMRegio is a 2D landscape model, which r...   \n",
       "\n",
       "                                            summaries  \\\n",
       "0   {'eo:gsd': [50.0], 'proj:epsg': [2056], 'geoad...   \n",
       "1   {'eo:gsd': [30.0], 'proj:epsg': [2056], 'geoad...   \n",
       "2                               {'proj:epsg': [2056]}   \n",
       "3   {'eo:gsd': [0.5], 'proj:epsg': [2056], 'geoadm...   \n",
       "4   {'eo:gsd': [5.0], 'proj:epsg': [2056], 'geoadm...   \n",
       "5   {'eo:gsd': [10.0], 'proj:epsg': [2056], 'geoad...   \n",
       "6   {'eo:gsd': [1.25], 'proj:epsg': [2056], 'geoad...   \n",
       "7   {'eo:gsd': [2.5], 'proj:epsg': [2056], 'geoadm...   \n",
       "8         {'eo:gsd': [0.5, 2.0], 'proj:epsg': [2056]}   \n",
       "9                               {'proj:epsg': [2056]}   \n",
       "10                              {'proj:epsg': [2056]}   \n",
       "11                              {'proj:epsg': [2056]}   \n",
       "12        {'eo:gsd': [0.1, 2.0], 'proj:epsg': [2056]}   \n",
       "13                              {'proj:epsg': [2056]}   \n",
       "14                              {'proj:epsg': [2056]}   \n",
       "15             {'eo:gsd': [0.5], 'proj:epsg': [2056]}   \n",
       "16                              {'proj:epsg': [2056]}   \n",
       "17                              {'proj:epsg': [2056]}   \n",
       "\n",
       "                                               extent  \\\n",
       "0   {'spatial': {'bbox': [[5.3385637, 45.5403468, ...   \n",
       "1   {'spatial': {'bbox': [[5.8350985, 45.6662576, ...   \n",
       "2   {'spatial': {'bbox': [[5.8282818, 45.6446766, ...   \n",
       "3   {'spatial': {'bbox': [[5.8828491, 45.804464, 1...   \n",
       "4   {'spatial': {'bbox': [[5.8481166, 45.6908726, ...   \n",
       "5   {'spatial': {'bbox': [[5.6024076, 45.5039364, ...   \n",
       "6   {'spatial': {'bbox': [[5.8735276, 45.8026814, ...   \n",
       "7   {'spatial': {'bbox': [[5.8672512, 45.6908726, ...   \n",
       "8   {'spatial': {'bbox': [[5.9503666, 45.7213375, ...   \n",
       "9   {'spatial': {'bbox': [[6.1223815, 46.1968631, ...   \n",
       "10  {'spatial': {'bbox': [[5.2229406, 45.3204053, ...   \n",
       "11  {'spatial': {'bbox': [[5.2229406, 45.3204053, ...   \n",
       "12  {'spatial': {'bbox': [[5.9503666, 45.8151271, ...   \n",
       "13  {'spatial': {'bbox': [[5.2229406, 45.3204053, ...   \n",
       "14  {'spatial': {'bbox': [[5.9503666, 45.8151271, ...   \n",
       "15  {'spatial': {'bbox': [[5.9503666, 45.7213375, ...   \n",
       "16  {'spatial': {'bbox': [[5.2229406, 45.3204053, ...   \n",
       "17  {'spatial': {'bbox': [[5.32721330590548, 45.30...   \n",
       "\n",
       "                                            providers      license  \\\n",
       "0   [{'name': 'Federal Office of Topography - swis...  proprietary   \n",
       "1   [{'name': 'Federal Office of Topography - swis...  proprietary   \n",
       "2   [{'name': 'Federal Office of Topography - swis...  proprietary   \n",
       "3   [{'name': 'Federal Office of Topography - swis...  proprietary   \n",
       "4   [{'name': 'Federal Office of Topography - swis...  proprietary   \n",
       "5   [{'name': 'Federal Office of Topography - swis...  proprietary   \n",
       "6   [{'name': 'Federal Office of Topography - swis...  proprietary   \n",
       "7   [{'name': 'Federal Office of Topography - swis...  proprietary   \n",
       "8   [{'name': 'Federal Office of Topography - swis...  proprietary   \n",
       "9   [{'name': 'Federal Office of Topography - swis...  proprietary   \n",
       "10  [{'name': 'Federal Office of Topography - swis...  proprietary   \n",
       "11  [{'name': 'Federal Office of Topography - swis...  proprietary   \n",
       "12  [{'name': 'Federal Office of Topography - swis...  proprietary   \n",
       "13  [{'name': 'Federal Office of Topography - swis...  proprietary   \n",
       "14  [{'name': 'Federal Office of Topography - swis...  proprietary   \n",
       "15  [{'name': 'Federal Office of Topography - swis...  proprietary   \n",
       "16  [{'name': 'Federal Office of Topography - swis...  proprietary   \n",
       "17  [{'name': 'Federal Office of Topography - swis...  proprietary   \n",
       "\n",
       "                        created                      updated  \\\n",
       "0   2021-06-29T13:15:26.512064Z  2021-07-06T11:31:18.685971Z   \n",
       "1   2021-07-07T07:37:02.804312Z  2021-07-07T07:44:37.560757Z   \n",
       "2   2021-06-29T13:57:48.808969Z  2021-07-12T11:41:32.214573Z   \n",
       "3   2021-02-11T12:16:13.231366Z  2021-08-06T11:18:21.378698Z   \n",
       "4   2021-02-12T14:11:34.606807Z  2021-06-10T14:21:16.334325Z   \n",
       "5   2021-02-17T16:19:41.548907Z  2021-02-17T16:35:27.327876Z   \n",
       "6   2021-02-12T14:11:04.628928Z  2021-08-12T13:14:24.665302Z   \n",
       "7   2021-02-12T14:09:05.522958Z  2021-06-08T12:33:47.307670Z   \n",
       "8   2021-02-05T13:54:56.380277Z  2021-02-10T18:17:29.578207Z   \n",
       "9   2021-06-03T12:40:39.684710Z  2021-07-12T12:26:52.541044Z   \n",
       "10  2021-06-29T13:16:42.523888Z  2021-07-12T14:21:03.576477Z   \n",
       "11  2021-02-05T13:59:25.768347Z  2021-07-12T12:28:08.829245Z   \n",
       "12  2021-02-11T12:15:20.683068Z  2021-07-15T08:05:57.111081Z   \n",
       "13  2021-06-29T13:19:35.140748Z  2021-07-15T10:41:01.737510Z   \n",
       "14  2021-02-23T09:45:32.902005Z  2021-08-14T00:03:15.843237Z   \n",
       "15  2021-03-18T12:50:08.473325Z  2021-05-07T15:34:04.625057Z   \n",
       "16  2021-02-05T13:57:36.712903Z  2021-07-12T12:26:37.314352Z   \n",
       "17  2021-03-24T12:22:56.352773Z  2021-03-24T12:27:02.713472Z   \n",
       "\n",
       "                                                links  \\\n",
       "0   [{'rel': 'self', 'href': 'https://data.geo.adm...   \n",
       "1   [{'rel': 'self', 'href': 'https://data.geo.adm...   \n",
       "2   [{'rel': 'self', 'href': 'https://data.geo.adm...   \n",
       "3   [{'rel': 'self', 'href': 'https://data.geo.adm...   \n",
       "4   [{'rel': 'self', 'href': 'https://data.geo.adm...   \n",
       "5   [{'rel': 'self', 'href': 'https://data.geo.adm...   \n",
       "6   [{'rel': 'self', 'href': 'https://data.geo.adm...   \n",
       "7   [{'rel': 'self', 'href': 'https://data.geo.adm...   \n",
       "8   [{'rel': 'self', 'href': 'https://data.geo.adm...   \n",
       "9   [{'rel': 'self', 'href': 'https://data.geo.adm...   \n",
       "10  [{'rel': 'self', 'href': 'https://data.geo.adm...   \n",
       "11  [{'rel': 'self', 'href': 'https://data.geo.adm...   \n",
       "12  [{'rel': 'self', 'href': 'https://data.geo.adm...   \n",
       "13  [{'rel': 'self', 'href': 'https://data.geo.adm...   \n",
       "14  [{'rel': 'self', 'href': 'https://data.geo.adm...   \n",
       "15  [{'rel': 'self', 'href': 'https://data.geo.adm...   \n",
       "16  [{'rel': 'self', 'href': 'https://data.geo.adm...   \n",
       "17  [{'rel': 'self', 'href': 'https://data.geo.adm...   \n",
       "\n",
       "                                               crs itemType  \n",
       "0   [http://www.opengis.net/def/crs/OGC/1.3/CRS84]  Feature  \n",
       "1   [http://www.opengis.net/def/crs/OGC/1.3/CRS84]  Feature  \n",
       "2   [http://www.opengis.net/def/crs/OGC/1.3/CRS84]  Feature  \n",
       "3   [http://www.opengis.net/def/crs/OGC/1.3/CRS84]  Feature  \n",
       "4   [http://www.opengis.net/def/crs/OGC/1.3/CRS84]  Feature  \n",
       "5   [http://www.opengis.net/def/crs/OGC/1.3/CRS84]  Feature  \n",
       "6   [http://www.opengis.net/def/crs/OGC/1.3/CRS84]  Feature  \n",
       "7   [http://www.opengis.net/def/crs/OGC/1.3/CRS84]  Feature  \n",
       "8   [http://www.opengis.net/def/crs/OGC/1.3/CRS84]  Feature  \n",
       "9   [http://www.opengis.net/def/crs/OGC/1.3/CRS84]  Feature  \n",
       "10  [http://www.opengis.net/def/crs/OGC/1.3/CRS84]  Feature  \n",
       "11  [http://www.opengis.net/def/crs/OGC/1.3/CRS84]  Feature  \n",
       "12  [http://www.opengis.net/def/crs/OGC/1.3/CRS84]  Feature  \n",
       "13  [http://www.opengis.net/def/crs/OGC/1.3/CRS84]  Feature  \n",
       "14  [http://www.opengis.net/def/crs/OGC/1.3/CRS84]  Feature  \n",
       "15  [http://www.opengis.net/def/crs/OGC/1.3/CRS84]  Feature  \n",
       "16  [http://www.opengis.net/def/crs/OGC/1.3/CRS84]  Feature  \n",
       "17  [http://www.opengis.net/def/crs/OGC/1.3/CRS84]  Feature  "
      ]
     },
     "execution_count": 2,
     "metadata": {},
     "output_type": "execute_result"
    }
   ],
   "source": [
    "df_collections = stac.getCollections(cache=False)\n",
    "\n",
    "df_collections"
   ]
  },
  {
   "cell_type": "code",
   "execution_count": 3,
   "metadata": {},
   "outputs": [
    {
     "name": "stdout",
     "output_type": "stream",
     "text": [
      "ch.bazl.luftfahrtkarten-icao\n",
      "ch.bazl.segelflugkarte\n",
      "ch.swisstopo.geoidmodell-ch1903\n",
      "ch.swisstopo.landeskarte-farbe-10\n",
      "ch.swisstopo.pixelkarte-farbe-pk100.noscale\n",
      "ch.swisstopo.pixelkarte-farbe-pk200.noscale\n",
      "ch.swisstopo.pixelkarte-farbe-pk25.noscale\n",
      "ch.swisstopo.pixelkarte-farbe-pk50.noscale\n",
      "ch.swisstopo.swissalti3d\n",
      "ch.swisstopo.swissbathy3d\n",
      "ch.swisstopo.swissboundaries3d\n",
      "ch.swisstopo.swissbuildings3d_2\n",
      "ch.swisstopo.swissimage-dop10\n",
      "ch.swisstopo.swissnames3d\n",
      "ch.swisstopo.swisssurface3d\n",
      "ch.swisstopo.swisssurface3d-raster\n",
      "ch.swisstopo.swisstlm3d\n",
      "ch.swisstopo.swisstlmregio\n"
     ]
    }
   ],
   "source": [
    "def print_info(row):\n",
    "    uid = row['id']\n",
    "    print(uid)\n",
    "    \n",
    "r = df_collections.apply(print_info, axis=1)"
   ]
  },
  {
   "cell_type": "code",
   "execution_count": 4,
   "metadata": {},
   "outputs": [
    {
     "name": "stdout",
     "output_type": "stream",
     "text": [
      "Downloading and caching https://data.geo.admin.ch/api/stac/v0.9/collections/ch.swisstopo.pixelkarte-farbe-pk50.noscale/items\r"
     ]
    }
   ],
   "source": [
    "df = stac.getFeatures(\"ch.swisstopo.pixelkarte-farbe-pk50.noscale\", cache=True)"
   ]
  },
  {
   "cell_type": "markdown",
   "metadata": {},
   "source": [
    "Cache, weil die Daten stabil bleiben über eine gewisse Zeit."
   ]
  },
  {
   "cell_type": "code",
   "execution_count": 5,
   "metadata": {},
   "outputs": [
    {
     "data": {
      "text/plain": [
       "80"
      ]
     },
     "execution_count": 5,
     "metadata": {},
     "output_type": "execute_result"
    }
   ],
   "source": [
    "len(df)"
   ]
  },
  {
   "cell_type": "code",
   "execution_count": 6,
   "metadata": {},
   "outputs": [
    {
     "data": {
      "text/html": [
       "<div>\n",
       "<style scoped>\n",
       "    .dataframe tbody tr th:only-of-type {\n",
       "        vertical-align: middle;\n",
       "    }\n",
       "\n",
       "    .dataframe tbody tr th {\n",
       "        vertical-align: top;\n",
       "    }\n",
       "\n",
       "    .dataframe thead th {\n",
       "        text-align: right;\n",
       "    }\n",
       "</style>\n",
       "<table border=\"1\" class=\"dataframe\">\n",
       "  <thead>\n",
       "    <tr style=\"text-align: right;\">\n",
       "      <th></th>\n",
       "      <th>id</th>\n",
       "      <th>collection</th>\n",
       "      <th>type</th>\n",
       "      <th>stac_version</th>\n",
       "      <th>bbox</th>\n",
       "      <th>properties</th>\n",
       "      <th>links</th>\n",
       "      <th>assets</th>\n",
       "      <th>geometry</th>\n",
       "    </tr>\n",
       "  </thead>\n",
       "  <tbody>\n",
       "    <tr>\n",
       "      <th>0</th>\n",
       "      <td>swiss-map-raster50_2007_285</td>\n",
       "      <td>ch.swisstopo.pixelkarte-farbe-pk50.noscale</td>\n",
       "      <td>Feature</td>\n",
       "      <td>0.9.0</td>\n",
       "      <td>[8.1475759, 45.9196151, 8.6032493, 46.1392467]</td>\n",
       "      <td>{'datetime': '2007-01-01T00:00:00Z', 'created'...</td>\n",
       "      <td>[{'rel': 'self', 'href': 'https://data.geo.adm...</td>\n",
       "      <td>{'swiss-map-raster50_2007_285_kgrs_2.5_2056.ti...</td>\n",
       "      <td>POLYGON ((8.15038 46.13925, 8.14758 45.92336, ...</td>\n",
       "    </tr>\n",
       "    <tr>\n",
       "      <th>1</th>\n",
       "      <td>swiss-map-raster50_2012_224</td>\n",
       "      <td>ch.swisstopo.pixelkarte-farbe-pk50.noscale</td>\n",
       "      <td>Feature</td>\n",
       "      <td>0.9.0</td>\n",
       "      <td>[7.7026763, 47.2186458, 8.1676858, 47.4364937]</td>\n",
       "      <td>{'datetime': '2012-01-01T00:00:00Z', 'created'...</td>\n",
       "      <td>[{'rel': 'self', 'href': 'https://data.geo.adm...</td>\n",
       "      <td>{'swiss-map-raster50_2012_224_kgrs_2.5_2056.ti...</td>\n",
       "      <td>POLYGON ((7.70374 47.43649, 7.70268 47.22063, ...</td>\n",
       "    </tr>\n",
       "    <tr>\n",
       "      <th>2</th>\n",
       "      <td>swiss-map-raster50_2012_234</td>\n",
       "      <td>ch.swisstopo.pixelkarte-farbe-pk50.noscale</td>\n",
       "      <td>Feature</td>\n",
       "      <td>0.9.0</td>\n",
       "      <td>[7.7016173, 47.0027778, 8.1647434, 47.2206298]</td>\n",
       "      <td>{'datetime': '2012-01-01T00:00:00Z', 'created'...</td>\n",
       "      <td>[{'rel': 'self', 'href': 'https://data.geo.adm...</td>\n",
       "      <td>{'swiss-map-raster50_2012_234_kgrs_2.5_2056.ti...</td>\n",
       "      <td>POLYGON ((7.70268 47.22063, 7.70162 47.00475, ...</td>\n",
       "    </tr>\n",
       "    <tr>\n",
       "      <th>3</th>\n",
       "      <td>swiss-map-raster50_2012_244</td>\n",
       "      <td>ch.swisstopo.pixelkarte-farbe-pk50.noscale</td>\n",
       "      <td>Feature</td>\n",
       "      <td>0.9.0</td>\n",
       "      <td>[7.7005668, 46.7869009, 8.1618247, 47.004754]</td>\n",
       "      <td>{'datetime': '2012-01-01T00:00:00Z', 'created'...</td>\n",
       "      <td>[{'rel': 'self', 'href': 'https://data.geo.adm...</td>\n",
       "      <td>{'swiss-map-raster50_2012_244_kgrs_2.5_2056.ti...</td>\n",
       "      <td>POLYGON ((7.70162 47.00475, 7.70057 46.78887, ...</td>\n",
       "    </tr>\n",
       "    <tr>\n",
       "      <th>4</th>\n",
       "      <td>swiss-map-raster50_2012_254</td>\n",
       "      <td>ch.swisstopo.pixelkarte-farbe-pk50.noscale</td>\n",
       "      <td>Feature</td>\n",
       "      <td>0.9.0</td>\n",
       "      <td>[7.6995246, 46.5710181, 8.1589294, 46.7888692]</td>\n",
       "      <td>{'datetime': '2012-01-01T00:00:00Z', 'created'...</td>\n",
       "      <td>[{'rel': 'self', 'href': 'https://data.geo.adm...</td>\n",
       "      <td>{'swiss-map-raster50_2012_254_kgrs_2.5_2056.ti...</td>\n",
       "      <td>POLYGON ((7.70057 46.78887, 7.69952 46.57298, ...</td>\n",
       "    </tr>\n",
       "  </tbody>\n",
       "</table>\n",
       "</div>"
      ],
      "text/plain": [
       "                            id                                  collection  \\\n",
       "0  swiss-map-raster50_2007_285  ch.swisstopo.pixelkarte-farbe-pk50.noscale   \n",
       "1  swiss-map-raster50_2012_224  ch.swisstopo.pixelkarte-farbe-pk50.noscale   \n",
       "2  swiss-map-raster50_2012_234  ch.swisstopo.pixelkarte-farbe-pk50.noscale   \n",
       "3  swiss-map-raster50_2012_244  ch.swisstopo.pixelkarte-farbe-pk50.noscale   \n",
       "4  swiss-map-raster50_2012_254  ch.swisstopo.pixelkarte-farbe-pk50.noscale   \n",
       "\n",
       "      type stac_version                                            bbox  \\\n",
       "0  Feature        0.9.0  [8.1475759, 45.9196151, 8.6032493, 46.1392467]   \n",
       "1  Feature        0.9.0  [7.7026763, 47.2186458, 8.1676858, 47.4364937]   \n",
       "2  Feature        0.9.0  [7.7016173, 47.0027778, 8.1647434, 47.2206298]   \n",
       "3  Feature        0.9.0   [7.7005668, 46.7869009, 8.1618247, 47.004754]   \n",
       "4  Feature        0.9.0  [7.6995246, 46.5710181, 8.1589294, 46.7888692]   \n",
       "\n",
       "                                          properties  \\\n",
       "0  {'datetime': '2007-01-01T00:00:00Z', 'created'...   \n",
       "1  {'datetime': '2012-01-01T00:00:00Z', 'created'...   \n",
       "2  {'datetime': '2012-01-01T00:00:00Z', 'created'...   \n",
       "3  {'datetime': '2012-01-01T00:00:00Z', 'created'...   \n",
       "4  {'datetime': '2012-01-01T00:00:00Z', 'created'...   \n",
       "\n",
       "                                               links  \\\n",
       "0  [{'rel': 'self', 'href': 'https://data.geo.adm...   \n",
       "1  [{'rel': 'self', 'href': 'https://data.geo.adm...   \n",
       "2  [{'rel': 'self', 'href': 'https://data.geo.adm...   \n",
       "3  [{'rel': 'self', 'href': 'https://data.geo.adm...   \n",
       "4  [{'rel': 'self', 'href': 'https://data.geo.adm...   \n",
       "\n",
       "                                              assets  \\\n",
       "0  {'swiss-map-raster50_2007_285_kgrs_2.5_2056.ti...   \n",
       "1  {'swiss-map-raster50_2012_224_kgrs_2.5_2056.ti...   \n",
       "2  {'swiss-map-raster50_2012_234_kgrs_2.5_2056.ti...   \n",
       "3  {'swiss-map-raster50_2012_244_kgrs_2.5_2056.ti...   \n",
       "4  {'swiss-map-raster50_2012_254_kgrs_2.5_2056.ti...   \n",
       "\n",
       "                                            geometry  \n",
       "0  POLYGON ((8.15038 46.13925, 8.14758 45.92336, ...  \n",
       "1  POLYGON ((7.70374 47.43649, 7.70268 47.22063, ...  \n",
       "2  POLYGON ((7.70268 47.22063, 7.70162 47.00475, ...  \n",
       "3  POLYGON ((7.70162 47.00475, 7.70057 46.78887, ...  \n",
       "4  POLYGON ((7.70057 46.78887, 7.69952 46.57298, ...  "
      ]
     },
     "execution_count": 6,
     "metadata": {},
     "output_type": "execute_result"
    }
   ],
   "source": [
    "df.head()"
   ]
  },
  {
   "cell_type": "code",
   "execution_count": 7,
   "metadata": {},
   "outputs": [
    {
     "data": {
      "text/plain": [
       "<AxesSubplot:>"
      ]
     },
     "execution_count": 7,
     "metadata": {},
     "output_type": "execute_result"
    },
    {
     "data": {
      "image/png": "[encoded data removed]",
      "text/plain": [
       "<Figure size 432x288 with 1 Axes>"
      ]
     },
     "metadata": {
      "needs_background": "light"
     },
     "output_type": "display_data"
    }
   ],
   "source": [
    "df.plot()"
   ]
  },
  {
   "cell_type": "code",
   "execution_count": 8,
   "metadata": {},
   "outputs": [
    {
     "data": {
      "text/plain": [
       "240"
      ]
     },
     "execution_count": 8,
     "metadata": {},
     "output_type": "execute_result"
    }
   ],
   "source": [
    "df_assets = stac.genAssets(df)\n",
    "len(df_assets)"
   ]
  },
  {
   "cell_type": "markdown",
   "metadata": {},
   "source": [
    "240 Datensets in 80 Kacheln (3 verschiedene Datentypen je)"
   ]
  },
  {
   "cell_type": "code",
   "execution_count": 9,
   "metadata": {},
   "outputs": [
    {
     "data": {
      "text/html": [
       "<div>\n",
       "<style scoped>\n",
       "    .dataframe tbody tr th:only-of-type {\n",
       "        vertical-align: middle;\n",
       "    }\n",
       "\n",
       "    .dataframe tbody tr th {\n",
       "        vertical-align: top;\n",
       "    }\n",
       "\n",
       "    .dataframe thead th {\n",
       "        text-align: right;\n",
       "    }\n",
       "</style>\n",
       "<table border=\"1\" class=\"dataframe\">\n",
       "  <thead>\n",
       "    <tr style=\"text-align: right;\">\n",
       "      <th></th>\n",
       "      <th>name</th>\n",
       "      <th>type</th>\n",
       "      <th>bbox</th>\n",
       "      <th>created</th>\n",
       "      <th>updated</th>\n",
       "      <th>href</th>\n",
       "      <th>proj</th>\n",
       "      <th>gsd</th>\n",
       "      <th>variant</th>\n",
       "      <th>checksum</th>\n",
       "      <th>geometry</th>\n",
       "    </tr>\n",
       "  </thead>\n",
       "  <tbody>\n",
       "    <tr>\n",
       "      <th>0</th>\n",
       "      <td>swiss-map-raster50_2007_285_kgrs_2.5_2056.tif</td>\n",
       "      <td>image/tiff; application=geotiff; profile=cloud...</td>\n",
       "      <td>[8.1475759, 45.9196151, 8.6032493, 46.1392467]</td>\n",
       "      <td>2021-02-17T13:31:07.118238Z</td>\n",
       "      <td>2021-04-12T06:28:30.642165Z</td>\n",
       "      <td>https://data.geo.admin.ch/ch.swisstopo.pixelka...</td>\n",
       "      <td>2056</td>\n",
       "      <td>2.5</td>\n",
       "      <td>kgrs</td>\n",
       "      <td>122095E37F7F99F5ECE5FE38E4ED4E95DF15075CF50B50...</td>\n",
       "      <td>POLYGON ((8.15038 46.13925, 8.14758 45.92336, ...</td>\n",
       "    </tr>\n",
       "    <tr>\n",
       "      <th>1</th>\n",
       "      <td>swiss-map-raster50_2007_285_komb_2.5_2056.tif</td>\n",
       "      <td>image/tiff; application=geotiff; profile=cloud...</td>\n",
       "      <td>[8.1475759, 45.9196151, 8.6032493, 46.1392467]</td>\n",
       "      <td>2021-02-17T13:56:46.644173Z</td>\n",
       "      <td>2021-04-12T06:29:34.610154Z</td>\n",
       "      <td>https://data.geo.admin.ch/ch.swisstopo.pixelka...</td>\n",
       "      <td>2056</td>\n",
       "      <td>2.5</td>\n",
       "      <td>komb</td>\n",
       "      <td>12208E111623C7FD30B9B285438AB4CC2C06957E033BE0...</td>\n",
       "      <td>POLYGON ((8.15038 46.13925, 8.14758 45.92336, ...</td>\n",
       "    </tr>\n",
       "    <tr>\n",
       "      <th>2</th>\n",
       "      <td>swiss-map-raster50_2007_285_krel_2.5_2056.tif</td>\n",
       "      <td>image/tiff; application=geotiff; profile=cloud...</td>\n",
       "      <td>[8.1475759, 45.9196151, 8.6032493, 46.1392467]</td>\n",
       "      <td>2021-02-17T13:44:25.152892Z</td>\n",
       "      <td>2021-04-12T06:32:50.381427Z</td>\n",
       "      <td>https://data.geo.admin.ch/ch.swisstopo.pixelka...</td>\n",
       "      <td>2056</td>\n",
       "      <td>2.5</td>\n",
       "      <td>krel</td>\n",
       "      <td>1220398A87328FE21CF5069D4EE52829BF8D31E4A48B01...</td>\n",
       "      <td>POLYGON ((8.15038 46.13925, 8.14758 45.92336, ...</td>\n",
       "    </tr>\n",
       "    <tr>\n",
       "      <th>3</th>\n",
       "      <td>swiss-map-raster50_2012_224_kgrs_2.5_2056.tif</td>\n",
       "      <td>image/tiff; application=geotiff; profile=cloud...</td>\n",
       "      <td>[7.7026763, 47.2186458, 8.1676858, 47.4364937]</td>\n",
       "      <td>2021-02-17T13:31:12.196493Z</td>\n",
       "      <td>2021-02-17T13:31:12.196510Z</td>\n",
       "      <td>https://data.geo.admin.ch/ch.swisstopo.pixelka...</td>\n",
       "      <td>2056</td>\n",
       "      <td>2.5</td>\n",
       "      <td>kgrs</td>\n",
       "      <td>12209DE34C794E801502A7013F966B3261462E1BD7155F...</td>\n",
       "      <td>POLYGON ((7.70374 47.43649, 7.70268 47.22063, ...</td>\n",
       "    </tr>\n",
       "    <tr>\n",
       "      <th>4</th>\n",
       "      <td>swiss-map-raster50_2012_224_komb_2.5_2056.tif</td>\n",
       "      <td>image/tiff; application=geotiff; profile=cloud...</td>\n",
       "      <td>[7.7026763, 47.2186458, 8.1676858, 47.4364937]</td>\n",
       "      <td>2021-02-17T13:57:08.113787Z</td>\n",
       "      <td>2021-02-17T13:57:08.113805Z</td>\n",
       "      <td>https://data.geo.admin.ch/ch.swisstopo.pixelka...</td>\n",
       "      <td>2056</td>\n",
       "      <td>2.5</td>\n",
       "      <td>komb</td>\n",
       "      <td>122029879E4AF587FB546359AF256E771E96D35EFA697D...</td>\n",
       "      <td>POLYGON ((7.70374 47.43649, 7.70268 47.22063, ...</td>\n",
       "    </tr>\n",
       "  </tbody>\n",
       "</table>\n",
       "</div>"
      ],
      "text/plain": [
       "                                            name  \\\n",
       "0  swiss-map-raster50_2007_285_kgrs_2.5_2056.tif   \n",
       "1  swiss-map-raster50_2007_285_komb_2.5_2056.tif   \n",
       "2  swiss-map-raster50_2007_285_krel_2.5_2056.tif   \n",
       "3  swiss-map-raster50_2012_224_kgrs_2.5_2056.tif   \n",
       "4  swiss-map-raster50_2012_224_komb_2.5_2056.tif   \n",
       "\n",
       "                                                type  \\\n",
       "0  image/tiff; application=geotiff; profile=cloud...   \n",
       "1  image/tiff; application=geotiff; profile=cloud...   \n",
       "2  image/tiff; application=geotiff; profile=cloud...   \n",
       "3  image/tiff; application=geotiff; profile=cloud...   \n",
       "4  image/tiff; application=geotiff; profile=cloud...   \n",
       "\n",
       "                                             bbox  \\\n",
       "0  [8.1475759, 45.9196151, 8.6032493, 46.1392467]   \n",
       "1  [8.1475759, 45.9196151, 8.6032493, 46.1392467]   \n",
       "2  [8.1475759, 45.9196151, 8.6032493, 46.1392467]   \n",
       "3  [7.7026763, 47.2186458, 8.1676858, 47.4364937]   \n",
       "4  [7.7026763, 47.2186458, 8.1676858, 47.4364937]   \n",
       "\n",
       "                       created                      updated  \\\n",
       "0  2021-02-17T13:31:07.118238Z  2021-04-12T06:28:30.642165Z   \n",
       "1  2021-02-17T13:56:46.644173Z  2021-04-12T06:29:34.610154Z   \n",
       "2  2021-02-17T13:44:25.152892Z  2021-04-12T06:32:50.381427Z   \n",
       "3  2021-02-17T13:31:12.196493Z  2021-02-17T13:31:12.196510Z   \n",
       "4  2021-02-17T13:57:08.113787Z  2021-02-17T13:57:08.113805Z   \n",
       "\n",
       "                                                href  proj  gsd variant  \\\n",
       "0  https://data.geo.admin.ch/ch.swisstopo.pixelka...  2056  2.5    kgrs   \n",
       "1  https://data.geo.admin.ch/ch.swisstopo.pixelka...  2056  2.5    komb   \n",
       "2  https://data.geo.admin.ch/ch.swisstopo.pixelka...  2056  2.5    krel   \n",
       "3  https://data.geo.admin.ch/ch.swisstopo.pixelka...  2056  2.5    kgrs   \n",
       "4  https://data.geo.admin.ch/ch.swisstopo.pixelka...  2056  2.5    komb   \n",
       "\n",
       "                                            checksum  \\\n",
       "0  122095E37F7F99F5ECE5FE38E4ED4E95DF15075CF50B50...   \n",
       "1  12208E111623C7FD30B9B285438AB4CC2C06957E033BE0...   \n",
       "2  1220398A87328FE21CF5069D4EE52829BF8D31E4A48B01...   \n",
       "3  12209DE34C794E801502A7013F966B3261462E1BD7155F...   \n",
       "4  122029879E4AF587FB546359AF256E771E96D35EFA697D...   \n",
       "\n",
       "                                            geometry  \n",
       "0  POLYGON ((8.15038 46.13925, 8.14758 45.92336, ...  \n",
       "1  POLYGON ((8.15038 46.13925, 8.14758 45.92336, ...  \n",
       "2  POLYGON ((8.15038 46.13925, 8.14758 45.92336, ...  \n",
       "3  POLYGON ((7.70374 47.43649, 7.70268 47.22063, ...  \n",
       "4  POLYGON ((7.70374 47.43649, 7.70268 47.22063, ...  "
      ]
     },
     "execution_count": 9,
     "metadata": {},
     "output_type": "execute_result"
    }
   ],
   "source": [
    "df_assets.head()"
   ]
  },
  {
   "cell_type": "markdown",
   "metadata": {},
   "source": [
    "**Varianten** siehe auch: https://www.swisstopo.admin.ch/content/swisstopo-internet/en/swisstopo/documents.download/swisstopo-internet/en/documents/karto-documents/shop/SMRProduktdokumentation_D.pdf\n",
    "\n",
    "* KREL Farbkombination mit Relief (RGB)\n",
    "* KOMB Farbkombination ohne Relief (indizierte Farben)\n",
    "* KGRS Graustufenkombination ohne Relief (indizierte Farben)\n",
    "* EE Einzelebenen (Bitmap, RELI und GTON als Graustufen)\n",
    "\n",
    "\n",
    "Siehe auch Webinterface: https://www.swisstopo.admin.ch/de/geodata/maps/smr/smr50.html\n",
    "        "
   ]
  },
  {
   "cell_type": "code",
   "execution_count": 10,
   "metadata": {},
   "outputs": [
    {
     "data": {
      "text/plain": [
       "['kgrs', 'komb', 'krel']"
      ]
     },
     "execution_count": 10,
     "metadata": {},
     "output_type": "execute_result"
    }
   ],
   "source": [
    "list(df_assets['variant'].unique())"
   ]
  },
  {
   "cell_type": "markdown",
   "metadata": {},
   "source": [
    "**Auflösung**\n",
    "\n",
    "Nur die Variante mit 2.5m pro Pixel"
   ]
  },
  {
   "cell_type": "code",
   "execution_count": 11,
   "metadata": {},
   "outputs": [
    {
     "data": {
      "text/plain": [
       "[2.5]"
      ]
     },
     "execution_count": 11,
     "metadata": {},
     "output_type": "execute_result"
    }
   ],
   "source": [
    "list(df_assets['gsd'].unique())"
   ]
  },
  {
   "cell_type": "markdown",
   "metadata": {},
   "source": [
    "**CRS**\n",
    "\n",
    "Nur EPSG Code 2056 (LV95)"
   ]
  },
  {
   "cell_type": "code",
   "execution_count": 12,
   "metadata": {},
   "outputs": [
    {
     "data": {
      "text/plain": [
       "[2056]"
      ]
     },
     "execution_count": 12,
     "metadata": {},
     "output_type": "execute_result"
    }
   ],
   "source": [
    "list(df_assets['proj'].unique())"
   ]
  },
  {
   "cell_type": "markdown",
   "metadata": {},
   "source": [
    "**Fileformat** / **Filetype**"
   ]
  },
  {
   "cell_type": "code",
   "execution_count": 13,
   "metadata": {},
   "outputs": [
    {
     "data": {
      "text/plain": [
       "['image/tiff; application=geotiff; profile=cloud-optimized']"
      ]
     },
     "execution_count": 13,
     "metadata": {},
     "output_type": "execute_result"
    }
   ],
   "source": [
    "list(df_assets['type'].unique())"
   ]
  },
  {
   "cell_type": "markdown",
   "metadata": {},
   "source": [
    "**Schlussauswahl**\n",
    "\n",
    "Wir können also z.B. Dataframes für jede Variante erstellen:"
   ]
  },
  {
   "cell_type": "code",
   "execution_count": 14,
   "metadata": {},
   "outputs": [],
   "source": [
    "df_kgrs = df_assets.query('variant == \"kgrs\"') # \"Farbe mit Relief\"\n",
    "df_krel = df_assets.query('variant == \"krel\"') # \"Farbe ohne Relief\"\n",
    "df_komb = df_assets.query('variant == \"komb\"') # \"Graustufen ohne Relief\""
   ]
  },
  {
   "cell_type": "code",
   "execution_count": 15,
   "metadata": {},
   "outputs": [
    {
     "data": {
      "text/html": [
       "<div>\n",
       "<style scoped>\n",
       "    .dataframe tbody tr th:only-of-type {\n",
       "        vertical-align: middle;\n",
       "    }\n",
       "\n",
       "    .dataframe tbody tr th {\n",
       "        vertical-align: top;\n",
       "    }\n",
       "\n",
       "    .dataframe thead th {\n",
       "        text-align: right;\n",
       "    }\n",
       "</style>\n",
       "<table border=\"1\" class=\"dataframe\">\n",
       "  <thead>\n",
       "    <tr style=\"text-align: right;\">\n",
       "      <th></th>\n",
       "      <th>name</th>\n",
       "      <th>type</th>\n",
       "      <th>bbox</th>\n",
       "      <th>created</th>\n",
       "      <th>updated</th>\n",
       "      <th>href</th>\n",
       "      <th>proj</th>\n",
       "      <th>gsd</th>\n",
       "      <th>variant</th>\n",
       "      <th>checksum</th>\n",
       "      <th>geometry</th>\n",
       "    </tr>\n",
       "  </thead>\n",
       "  <tbody>\n",
       "    <tr>\n",
       "      <th>2</th>\n",
       "      <td>swiss-map-raster50_2007_285_krel_2.5_2056.tif</td>\n",
       "      <td>image/tiff; application=geotiff; profile=cloud...</td>\n",
       "      <td>[8.1475759, 45.9196151, 8.6032493, 46.1392467]</td>\n",
       "      <td>2021-02-17T13:44:25.152892Z</td>\n",
       "      <td>2021-04-12T06:32:50.381427Z</td>\n",
       "      <td>https://data.geo.admin.ch/ch.swisstopo.pixelka...</td>\n",
       "      <td>2056</td>\n",
       "      <td>2.5</td>\n",
       "      <td>krel</td>\n",
       "      <td>1220398A87328FE21CF5069D4EE52829BF8D31E4A48B01...</td>\n",
       "      <td>POLYGON ((8.15038 46.13925, 8.14758 45.92336, ...</td>\n",
       "    </tr>\n",
       "    <tr>\n",
       "      <th>5</th>\n",
       "      <td>swiss-map-raster50_2012_224_krel_2.5_2056.tif</td>\n",
       "      <td>image/tiff; application=geotiff; profile=cloud...</td>\n",
       "      <td>[7.7026763, 47.2186458, 8.1676858, 47.4364937]</td>\n",
       "      <td>2021-02-17T13:44:17.079676Z</td>\n",
       "      <td>2021-02-17T13:44:17.079695Z</td>\n",
       "      <td>https://data.geo.admin.ch/ch.swisstopo.pixelka...</td>\n",
       "      <td>2056</td>\n",
       "      <td>2.5</td>\n",
       "      <td>krel</td>\n",
       "      <td>1220EE1D108387758F2876342F40F2A8DF28AE083A496D...</td>\n",
       "      <td>POLYGON ((7.70374 47.43649, 7.70268 47.22063, ...</td>\n",
       "    </tr>\n",
       "    <tr>\n",
       "      <th>8</th>\n",
       "      <td>swiss-map-raster50_2012_234_krel_2.5_2056.tif</td>\n",
       "      <td>image/tiff; application=geotiff; profile=cloud...</td>\n",
       "      <td>[7.7016173, 47.0027778, 8.1647434, 47.2206298]</td>\n",
       "      <td>2021-02-17T13:44:19.448489Z</td>\n",
       "      <td>2021-02-17T13:44:19.448507Z</td>\n",
       "      <td>https://data.geo.admin.ch/ch.swisstopo.pixelka...</td>\n",
       "      <td>2056</td>\n",
       "      <td>2.5</td>\n",
       "      <td>krel</td>\n",
       "      <td>1220759272439B92B563CC454253A74A466068C8E86198...</td>\n",
       "      <td>POLYGON ((7.70268 47.22063, 7.70162 47.00475, ...</td>\n",
       "    </tr>\n",
       "  </tbody>\n",
       "</table>\n",
       "</div>"
      ],
      "text/plain": [
       "                                            name  \\\n",
       "2  swiss-map-raster50_2007_285_krel_2.5_2056.tif   \n",
       "5  swiss-map-raster50_2012_224_krel_2.5_2056.tif   \n",
       "8  swiss-map-raster50_2012_234_krel_2.5_2056.tif   \n",
       "\n",
       "                                                type  \\\n",
       "2  image/tiff; application=geotiff; profile=cloud...   \n",
       "5  image/tiff; application=geotiff; profile=cloud...   \n",
       "8  image/tiff; application=geotiff; profile=cloud...   \n",
       "\n",
       "                                             bbox  \\\n",
       "2  [8.1475759, 45.9196151, 8.6032493, 46.1392467]   \n",
       "5  [7.7026763, 47.2186458, 8.1676858, 47.4364937]   \n",
       "8  [7.7016173, 47.0027778, 8.1647434, 47.2206298]   \n",
       "\n",
       "                       created                      updated  \\\n",
       "2  2021-02-17T13:44:25.152892Z  2021-04-12T06:32:50.381427Z   \n",
       "5  2021-02-17T13:44:17.079676Z  2021-02-17T13:44:17.079695Z   \n",
       "8  2021-02-17T13:44:19.448489Z  2021-02-17T13:44:19.448507Z   \n",
       "\n",
       "                                                href  proj  gsd variant  \\\n",
       "2  https://data.geo.admin.ch/ch.swisstopo.pixelka...  2056  2.5    krel   \n",
       "5  https://data.geo.admin.ch/ch.swisstopo.pixelka...  2056  2.5    krel   \n",
       "8  https://data.geo.admin.ch/ch.swisstopo.pixelka...  2056  2.5    krel   \n",
       "\n",
       "                                            checksum  \\\n",
       "2  1220398A87328FE21CF5069D4EE52829BF8D31E4A48B01...   \n",
       "5  1220EE1D108387758F2876342F40F2A8DF28AE083A496D...   \n",
       "8  1220759272439B92B563CC454253A74A466068C8E86198...   \n",
       "\n",
       "                                            geometry  \n",
       "2  POLYGON ((8.15038 46.13925, 8.14758 45.92336, ...  \n",
       "5  POLYGON ((7.70374 47.43649, 7.70268 47.22063, ...  \n",
       "8  POLYGON ((7.70268 47.22063, 7.70162 47.00475, ...  "
      ]
     },
     "execution_count": 15,
     "metadata": {},
     "output_type": "execute_result"
    }
   ],
   "source": [
    "df_krel.head(3)"
   ]
  },
  {
   "cell_type": "markdown",
   "metadata": {},
   "source": [
    "nun müsste man noch die URL auslesen, dies ist in der Hilfsfunktion getUrlList(df)"
   ]
  },
  {
   "cell_type": "markdown",
   "metadata": {},
   "source": [
    "### Nochmals der gesamte Weg (vereinfacht)\n",
    "\n",
    "\n",
    "* ``stac.getCollectionList(cache=True)``\n",
    "* ``df = stac.getAssets(\"ASSETNAME\")``\n",
    "* Eindeutigkeit Abfragen (z.B. Auflösung, Variante)\n",
    "* ``urls = stac.getUrlList(df_krel)``\n"
   ]
  },
  {
   "cell_type": "code",
   "execution_count": 16,
   "metadata": {},
   "outputs": [
    {
     "data": {
      "text/plain": [
       "['ch.bazl.luftfahrtkarten-icao',\n",
       " 'ch.bazl.segelflugkarte',\n",
       " 'ch.swisstopo.geoidmodell-ch1903',\n",
       " 'ch.swisstopo.landeskarte-farbe-10',\n",
       " 'ch.swisstopo.pixelkarte-farbe-pk100.noscale',\n",
       " 'ch.swisstopo.pixelkarte-farbe-pk200.noscale',\n",
       " 'ch.swisstopo.pixelkarte-farbe-pk25.noscale',\n",
       " 'ch.swisstopo.pixelkarte-farbe-pk50.noscale',\n",
       " 'ch.swisstopo.swissalti3d',\n",
       " 'ch.swisstopo.swissbathy3d',\n",
       " 'ch.swisstopo.swissboundaries3d',\n",
       " 'ch.swisstopo.swissbuildings3d_2',\n",
       " 'ch.swisstopo.swissimage-dop10',\n",
       " 'ch.swisstopo.swissnames3d',\n",
       " 'ch.swisstopo.swisssurface3d',\n",
       " 'ch.swisstopo.swisssurface3d-raster',\n",
       " 'ch.swisstopo.swisstlm3d',\n",
       " 'ch.swisstopo.swisstlmregio']"
      ]
     },
     "execution_count": 16,
     "metadata": {},
     "output_type": "execute_result"
    }
   ],
   "source": [
    "stac.getCollectionList(cache=True)"
   ]
  },
  {
   "cell_type": "code",
   "execution_count": 17,
   "metadata": {},
   "outputs": [],
   "source": [
    "df = stac.getAssets(\"ch.swisstopo.pixelkarte-farbe-pk50.noscale\")"
   ]
  },
  {
   "cell_type": "markdown",
   "metadata": {},
   "source": [
    "... hier müsste man noch wissen, was eindeutig ist ..."
   ]
  },
  {
   "cell_type": "code",
   "execution_count": 18,
   "metadata": {},
   "outputs": [],
   "source": [
    "df_kgrs = df.query('variant == \"kgrs\"') # Farbkombination mit Relief (RGB)\n",
    "df_krel = df.query('variant == \"krel\"') # Farbkombination ohne Relief (indizierte Farben)\n",
    "df_komb = df.query('variant == \"komb\"') # Graustufenkombination ohne Relief (indizierte Farben)"
   ]
  },
  {
   "cell_type": "code",
   "execution_count": 19,
   "metadata": {},
   "outputs": [],
   "source": [
    "urls = stac.getUrlList(df_krel)"
   ]
  },
  {
   "cell_type": "markdown",
   "metadata": {},
   "source": [
    "Wir könnten jetzt alles herunterladen..."
   ]
  },
  {
   "cell_type": "code",
   "execution_count": 20,
   "metadata": {},
   "outputs": [
    {
     "data": {
      "text/plain": [
       "['https://data.geo.admin.ch/ch.swisstopo.pixelkarte-farbe-pk50.noscale/swiss-map-raster50_2007_285/swiss-map-raster50_2007_285_krel_2.5_2056.tif',\n",
       " 'https://data.geo.admin.ch/ch.swisstopo.pixelkarte-farbe-pk50.noscale/swiss-map-raster50_2012_224/swiss-map-raster50_2012_224_krel_2.5_2056.tif',\n",
       " 'https://data.geo.admin.ch/ch.swisstopo.pixelkarte-farbe-pk50.noscale/swiss-map-raster50_2012_234/swiss-map-raster50_2012_234_krel_2.5_2056.tif',\n",
       " 'https://data.geo.admin.ch/ch.swisstopo.pixelkarte-farbe-pk50.noscale/swiss-map-raster50_2012_244/swiss-map-raster50_2012_244_krel_2.5_2056.tif',\n",
       " 'https://data.geo.admin.ch/ch.swisstopo.pixelkarte-farbe-pk50.noscale/swiss-map-raster50_2012_254/swiss-map-raster50_2012_254_krel_2.5_2056.tif']"
      ]
     },
     "execution_count": 20,
     "metadata": {},
     "output_type": "execute_result"
    }
   ],
   "source": [
    "urls[0:5]  # Die ersten 5 in der liste"
   ]
  },
  {
   "cell_type": "markdown",
   "metadata": {},
   "source": [
    "### Räumliche Abfragen\n",
    "\n",
    "Im Webinterface der Swisstopo haben wir ja folgende Auswahlmöglichkeiten gehabt:\n",
    "\n",
    "* Rechteck\n",
    "* Polygon\n",
    "* Klicken\n",
    "* Kanton\n",
    "* Gemeinde\n",
    "* Ganzer Datensatz\n",
    "\n",
    "Im Prinzip haben wir jetzt den **ganzen Datensatz**, also wir können recht einfach ein CSV selbst erstellen.\n"
   ]
  },
  {
   "cell_type": "markdown",
   "metadata": {},
   "source": [
    "#### Punkt"
   ]
  },
  {
   "cell_type": "code",
   "execution_count": 21,
   "metadata": {},
   "outputs": [],
   "source": [
    "# Bundeshaus:\n",
    "lat = 46.94653998135123\n",
    "lng = 7.444120726365559"
   ]
  },
  {
   "cell_type": "code",
   "execution_count": 22,
   "metadata": {},
   "outputs": [],
   "source": [
    "point = shapely.geometry.Point(lng, lat)\n",
    "bundeshaus_punkt = gpd.GeoDataFrame(geometry=gpd.GeoSeries(point, crs=\"epsg:4326\"))"
   ]
  },
  {
   "cell_type": "code",
   "execution_count": 23,
   "metadata": {},
   "outputs": [
    {
     "data": {
      "text/html": [
       "<div>\n",
       "<style scoped>\n",
       "    .dataframe tbody tr th:only-of-type {\n",
       "        vertical-align: middle;\n",
       "    }\n",
       "\n",
       "    .dataframe tbody tr th {\n",
       "        vertical-align: top;\n",
       "    }\n",
       "\n",
       "    .dataframe thead th {\n",
       "        text-align: right;\n",
       "    }\n",
       "</style>\n",
       "<table border=\"1\" class=\"dataframe\">\n",
       "  <thead>\n",
       "    <tr style=\"text-align: right;\">\n",
       "      <th></th>\n",
       "      <th>geometry</th>\n",
       "    </tr>\n",
       "  </thead>\n",
       "  <tbody>\n",
       "    <tr>\n",
       "      <th>0</th>\n",
       "      <td>POINT (7.44412 46.94654)</td>\n",
       "    </tr>\n",
       "  </tbody>\n",
       "</table>\n",
       "</div>"
      ],
      "text/plain": [
       "                   geometry\n",
       "0  POINT (7.44412 46.94654)"
      ]
     },
     "execution_count": 23,
     "metadata": {},
     "output_type": "execute_result"
    }
   ],
   "source": [
    "bundeshaus_punkt"
   ]
  },
  {
   "cell_type": "code",
   "execution_count": 25,
   "metadata": {},
   "outputs": [],
   "source": [
    "# siehe: https://geopandas.org/gallery/spatial_joins.html\n",
    "# spatial join: Kachel, wo das Bundeshaus enthalten ist\n",
    "df_krel_bundeshaus = gpd.sjoin(df_krel, bundeshaus_punkt, op='contains')"
   ]
  },
  {
   "cell_type": "code",
   "execution_count": 26,
   "metadata": {},
   "outputs": [
    {
     "data": {
      "text/plain": [
       "['https://data.geo.admin.ch/ch.swisstopo.pixelkarte-farbe-pk50.noscale/swiss-map-raster50_2016_243/swiss-map-raster50_2016_243_krel_2.5_2056.tif']"
      ]
     },
     "execution_count": 26,
     "metadata": {},
     "output_type": "execute_result"
    }
   ],
   "source": [
    "urls = stac.getUrlList(df_krel_bundeshaus)\n",
    "urls"
   ]
  },
  {
   "cell_type": "code",
   "execution_count": null,
   "metadata": {},
   "outputs": [],
   "source": []
  },
  {
   "cell_type": "markdown",
   "metadata": {},
   "source": [
    "#### Polygon\n",
    "\n",
    "Polygon: Bern, Olten, Luzern, Interlaken"
   ]
  },
  {
   "cell_type": "code",
   "execution_count": 27,
   "metadata": {},
   "outputs": [],
   "source": [
    "s = \"POLYGON((7.45147705078125 46.95401192579361,7.84698486328125 46.677710064644344,8.35235595703125 47.00647991252098,7.915649414062499 47.336961408985005,7.45147705078125 46.95401192579361))\""
   ]
  },
  {
   "cell_type": "code",
   "execution_count": 28,
   "metadata": {},
   "outputs": [],
   "source": [
    "import shapely.wkt\n",
    "\n",
    "polygon = shapely.wkt.loads(s)\n",
    "poly_gpd = gpd.GeoDataFrame(geometry=gpd.GeoSeries(polygon, crs=\"epsg:4326\"))"
   ]
  },
  {
   "cell_type": "code",
   "execution_count": 29,
   "metadata": {},
   "outputs": [],
   "source": [
    "# siehe: https://geopandas.org/gallery/spatial_joins.html\n",
    "# intersects: Schnittmenge\n",
    "df_polygon = gpd.sjoin(df_krel, poly_gpd, op='intersects')"
   ]
  },
  {
   "cell_type": "code",
   "execution_count": 30,
   "metadata": {},
   "outputs": [
    {
     "data": {
      "text/plain": [
       "['https://data.geo.admin.ch/ch.swisstopo.pixelkarte-farbe-pk50.noscale/swiss-map-raster50_2012_224/swiss-map-raster50_2012_224_krel_2.5_2056.tif',\n",
       " 'https://data.geo.admin.ch/ch.swisstopo.pixelkarte-farbe-pk50.noscale/swiss-map-raster50_2012_234/swiss-map-raster50_2012_234_krel_2.5_2056.tif',\n",
       " 'https://data.geo.admin.ch/ch.swisstopo.pixelkarte-farbe-pk50.noscale/swiss-map-raster50_2012_244/swiss-map-raster50_2012_244_krel_2.5_2056.tif',\n",
       " 'https://data.geo.admin.ch/ch.swisstopo.pixelkarte-farbe-pk50.noscale/swiss-map-raster50_2012_254/swiss-map-raster50_2012_254_krel_2.5_2056.tif',\n",
       " 'https://data.geo.admin.ch/ch.swisstopo.pixelkarte-farbe-pk50.noscale/swiss-map-raster50_2013_235/swiss-map-raster50_2013_235_krel_2.5_2056.tif',\n",
       " 'https://data.geo.admin.ch/ch.swisstopo.pixelkarte-farbe-pk50.noscale/swiss-map-raster50_2014_245/swiss-map-raster50_2014_245_krel_2.5_2056.tif',\n",
       " 'https://data.geo.admin.ch/ch.swisstopo.pixelkarte-farbe-pk50.noscale/swiss-map-raster50_2016_243/swiss-map-raster50_2016_243_krel_2.5_2056.tif',\n",
       " 'https://data.geo.admin.ch/ch.swisstopo.pixelkarte-farbe-pk50.noscale/swiss-map-raster50_2016_253/swiss-map-raster50_2016_253_krel_2.5_2056.tif',\n",
       " 'https://data.geo.admin.ch/ch.swisstopo.pixelkarte-farbe-pk50.noscale/swiss-map-raster50_2018_233/swiss-map-raster50_2018_233_krel_2.5_2056.tif']"
      ]
     },
     "execution_count": 30,
     "metadata": {},
     "output_type": "execute_result"
    }
   ],
   "source": [
    "urls = stac.getUrlList(df_polygon)\n",
    "urls"
   ]
  },
  {
   "cell_type": "markdown",
   "metadata": {},
   "source": [
    "#### Kanton, Gemeinde\n",
    "\n",
    "ist analog Polygon\n",
    "\n",
    "Für solche Anwendungen reichen in der Regel generalisierte Polygone"
   ]
  },
  {
   "cell_type": "code",
   "execution_count": 31,
   "metadata": {},
   "outputs": [
    {
     "data": {
      "text/html": [
       "<div>\n",
       "<style scoped>\n",
       "    .dataframe tbody tr th:only-of-type {\n",
       "        vertical-align: middle;\n",
       "    }\n",
       "\n",
       "    .dataframe tbody tr th {\n",
       "        vertical-align: top;\n",
       "    }\n",
       "\n",
       "    .dataframe thead th {\n",
       "        text-align: right;\n",
       "    }\n",
       "</style>\n",
       "<table border=\"1\" class=\"dataframe\">\n",
       "  <thead>\n",
       "    <tr style=\"text-align: right;\">\n",
       "      <th></th>\n",
       "      <th>KTNR</th>\n",
       "      <th>KTNAME</th>\n",
       "      <th>AREA_HA</th>\n",
       "      <th>geometry</th>\n",
       "    </tr>\n",
       "  </thead>\n",
       "  <tbody>\n",
       "    <tr>\n",
       "      <th>0</th>\n",
       "      <td>1</td>\n",
       "      <td>Zürich</td>\n",
       "      <td>172894</td>\n",
       "      <td>POLYGON ((2692443.000 1281183.000, 2692994.000...</td>\n",
       "    </tr>\n",
       "    <tr>\n",
       "      <th>1</th>\n",
       "      <td>2</td>\n",
       "      <td>Bern / Berne</td>\n",
       "      <td>595951</td>\n",
       "      <td>MULTIPOLYGON (((2573533.000 1194765.000, 25740...</td>\n",
       "    </tr>\n",
       "    <tr>\n",
       "      <th>2</th>\n",
       "      <td>3</td>\n",
       "      <td>Luzern</td>\n",
       "      <td>149353</td>\n",
       "      <td>POLYGON ((2662029.000 1237691.000, 2662264.000...</td>\n",
       "    </tr>\n",
       "    <tr>\n",
       "      <th>3</th>\n",
       "      <td>4</td>\n",
       "      <td>Uri</td>\n",
       "      <td>107654</td>\n",
       "      <td>POLYGON ((2688457.000 1203340.000, 2688740.000...</td>\n",
       "    </tr>\n",
       "    <tr>\n",
       "      <th>4</th>\n",
       "      <td>5</td>\n",
       "      <td>Schwyz</td>\n",
       "      <td>90788</td>\n",
       "      <td>POLYGON ((2704723.000 1229925.000, 2706210.000...</td>\n",
       "    </tr>\n",
       "  </tbody>\n",
       "</table>\n",
       "</div>"
      ],
      "text/plain": [
       "   KTNR        KTNAME  AREA_HA  \\\n",
       "0     1        Zürich   172894   \n",
       "1     2  Bern / Berne   595951   \n",
       "2     3        Luzern   149353   \n",
       "3     4           Uri   107654   \n",
       "4     5        Schwyz    90788   \n",
       "\n",
       "                                            geometry  \n",
       "0  POLYGON ((2692443.000 1281183.000, 2692994.000...  \n",
       "1  MULTIPOLYGON (((2573533.000 1194765.000, 25740...  \n",
       "2  POLYGON ((2662029.000 1237691.000, 2662264.000...  \n",
       "3  POLYGON ((2688457.000 1203340.000, 2688740.000...  \n",
       "4  POLYGON ((2704723.000 1229925.000, 2706210.000...  "
      ]
     },
     "execution_count": 31,
     "metadata": {},
     "output_type": "execute_result"
    }
   ],
   "source": [
    "kantone = gpd.read_file(\"daten/gemeindegrenzen/ggg_2021-LV95/shp/g1k21.shp\", encoding=\"utf-8\")\n",
    "kantone = kantone[['KTNR','KTNAME','AREA_HA', 'geometry']]\n",
    "kantone.head()"
   ]
  },
  {
   "cell_type": "code",
   "execution_count": 33,
   "metadata": {},
   "outputs": [
    {
     "data": {
      "text/html": [
       "<div>\n",
       "<style scoped>\n",
       "    .dataframe tbody tr th:only-of-type {\n",
       "        vertical-align: middle;\n",
       "    }\n",
       "\n",
       "    .dataframe tbody tr th {\n",
       "        vertical-align: top;\n",
       "    }\n",
       "\n",
       "    .dataframe thead th {\n",
       "        text-align: right;\n",
       "    }\n",
       "</style>\n",
       "<table border=\"1\" class=\"dataframe\">\n",
       "  <thead>\n",
       "    <tr style=\"text-align: right;\">\n",
       "      <th></th>\n",
       "      <th>KTNR</th>\n",
       "      <th>KTNAME</th>\n",
       "      <th>AREA_HA</th>\n",
       "      <th>geometry</th>\n",
       "    </tr>\n",
       "  </thead>\n",
       "  <tbody>\n",
       "    <tr>\n",
       "      <th>0</th>\n",
       "      <td>1</td>\n",
       "      <td>Zürich</td>\n",
       "      <td>172894</td>\n",
       "      <td>POLYGON ((8.66961 47.67475, 8.67687 47.67182, ...</td>\n",
       "    </tr>\n",
       "    <tr>\n",
       "      <th>1</th>\n",
       "      <td>2</td>\n",
       "      <td>Bern / Berne</td>\n",
       "      <td>595951</td>\n",
       "      <td>MULTIPOLYGON (((7.09127 46.90346, 7.09742 46.8...</td>\n",
       "    </tr>\n",
       "    <tr>\n",
       "      <th>2</th>\n",
       "      <td>3</td>\n",
       "      <td>Luzern</td>\n",
       "      <td>149353</td>\n",
       "      <td>POLYGON ((8.25860 47.28720, 8.26163 47.28254, ...</td>\n",
       "    </tr>\n",
       "    <tr>\n",
       "      <th>3</th>\n",
       "      <td>4</td>\n",
       "      <td>Uri</td>\n",
       "      <td>107654</td>\n",
       "      <td>POLYGON ((8.60118 46.97524, 8.60439 46.95198, ...</td>\n",
       "    </tr>\n",
       "    <tr>\n",
       "      <th>4</th>\n",
       "      <td>5</td>\n",
       "      <td>Schwyz</td>\n",
       "      <td>90788</td>\n",
       "      <td>POLYGON ((8.82107 47.21196, 8.84060 47.20808, ...</td>\n",
       "    </tr>\n",
       "  </tbody>\n",
       "</table>\n",
       "</div>"
      ],
      "text/plain": [
       "   KTNR        KTNAME  AREA_HA  \\\n",
       "0     1        Zürich   172894   \n",
       "1     2  Bern / Berne   595951   \n",
       "2     3        Luzern   149353   \n",
       "3     4           Uri   107654   \n",
       "4     5        Schwyz    90788   \n",
       "\n",
       "                                            geometry  \n",
       "0  POLYGON ((8.66961 47.67475, 8.67687 47.67182, ...  \n",
       "1  MULTIPOLYGON (((7.09127 46.90346, 7.09742 46.8...  \n",
       "2  POLYGON ((8.25860 47.28720, 8.26163 47.28254, ...  \n",
       "3  POLYGON ((8.60118 46.97524, 8.60439 46.95198, ...  \n",
       "4  POLYGON ((8.82107 47.21196, 8.84060 47.20808, ...  "
      ]
     },
     "execution_count": 33,
     "metadata": {},
     "output_type": "execute_result"
    }
   ],
   "source": [
    "# !!! Umwandlung !!!\n",
    "kantone = kantone.to_crs(\"EPSG:4326\")\n",
    "kantone.head()"
   ]
  },
  {
   "cell_type": "code",
   "execution_count": 34,
   "metadata": {},
   "outputs": [
    {
     "data": {
      "text/html": [
       "<div>\n",
       "<style scoped>\n",
       "    .dataframe tbody tr th:only-of-type {\n",
       "        vertical-align: middle;\n",
       "    }\n",
       "\n",
       "    .dataframe tbody tr th {\n",
       "        vertical-align: top;\n",
       "    }\n",
       "\n",
       "    .dataframe thead th {\n",
       "        text-align: right;\n",
       "    }\n",
       "</style>\n",
       "<table border=\"1\" class=\"dataframe\">\n",
       "  <thead>\n",
       "    <tr style=\"text-align: right;\">\n",
       "      <th></th>\n",
       "      <th>KTNR</th>\n",
       "      <th>KTNAME</th>\n",
       "      <th>AREA_HA</th>\n",
       "      <th>geometry</th>\n",
       "    </tr>\n",
       "  </thead>\n",
       "  <tbody>\n",
       "    <tr>\n",
       "      <th>1</th>\n",
       "      <td>2</td>\n",
       "      <td>Bern / Berne</td>\n",
       "      <td>595951</td>\n",
       "      <td>MULTIPOLYGON (((7.09127 46.90346, 7.09742 46.8...</td>\n",
       "    </tr>\n",
       "  </tbody>\n",
       "</table>\n",
       "</div>"
      ],
      "text/plain": [
       "   KTNR        KTNAME  AREA_HA  \\\n",
       "1     2  Bern / Berne   595951   \n",
       "\n",
       "                                            geometry  \n",
       "1  MULTIPOLYGON (((7.09127 46.90346, 7.09742 46.8...  "
      ]
     },
     "execution_count": 34,
     "metadata": {},
     "output_type": "execute_result"
    }
   ],
   "source": [
    "poly_gpd = kantone.query('KTNR == 2')\n",
    "poly_gpd"
   ]
  },
  {
   "cell_type": "code",
   "execution_count": 35,
   "metadata": {},
   "outputs": [],
   "source": [
    "df_daten_kantone = gpd.sjoin(df_krel, poly_gpd, op='intersects')"
   ]
  },
  {
   "cell_type": "code",
   "execution_count": 36,
   "metadata": {},
   "outputs": [
    {
     "data": {
      "text/plain": [
       "['https://data.geo.admin.ch/ch.swisstopo.pixelkarte-farbe-pk50.noscale/swiss-map-raster50_2012_224/swiss-map-raster50_2012_224_krel_2.5_2056.tif',\n",
       " 'https://data.geo.admin.ch/ch.swisstopo.pixelkarte-farbe-pk50.noscale/swiss-map-raster50_2012_234/swiss-map-raster50_2012_234_krel_2.5_2056.tif',\n",
       " 'https://data.geo.admin.ch/ch.swisstopo.pixelkarte-farbe-pk50.noscale/swiss-map-raster50_2012_244/swiss-map-raster50_2012_244_krel_2.5_2056.tif',\n",
       " 'https://data.geo.admin.ch/ch.swisstopo.pixelkarte-farbe-pk50.noscale/swiss-map-raster50_2012_254/swiss-map-raster50_2012_254_krel_2.5_2056.tif',\n",
       " 'https://data.geo.admin.ch/ch.swisstopo.pixelkarte-farbe-pk50.noscale/swiss-map-raster50_2014_245/swiss-map-raster50_2014_245_krel_2.5_2056.tif',\n",
       " 'https://data.geo.admin.ch/ch.swisstopo.pixelkarte-farbe-pk50.noscale/swiss-map-raster50_2016_242/swiss-map-raster50_2016_242_krel_2.5_2056.tif',\n",
       " 'https://data.geo.admin.ch/ch.swisstopo.pixelkarte-farbe-pk50.noscale/swiss-map-raster50_2016_243/swiss-map-raster50_2016_243_krel_2.5_2056.tif',\n",
       " 'https://data.geo.admin.ch/ch.swisstopo.pixelkarte-farbe-pk50.noscale/swiss-map-raster50_2016_253/swiss-map-raster50_2016_253_krel_2.5_2056.tif',\n",
       " 'https://data.geo.admin.ch/ch.swisstopo.pixelkarte-farbe-pk50.noscale/swiss-map-raster50_2016_255/swiss-map-raster50_2016_255_krel_2.5_2056.tif',\n",
       " 'https://data.geo.admin.ch/ch.swisstopo.pixelkarte-farbe-pk50.noscale/swiss-map-raster50_2016_262/swiss-map-raster50_2016_262_krel_2.5_2056.tif',\n",
       " 'https://data.geo.admin.ch/ch.swisstopo.pixelkarte-farbe-pk50.noscale/swiss-map-raster50_2016_263/swiss-map-raster50_2016_263_krel_2.5_2056.tif',\n",
       " 'https://data.geo.admin.ch/ch.swisstopo.pixelkarte-farbe-pk50.noscale/swiss-map-raster50_2016_272/swiss-map-raster50_2016_272_krel_2.5_2056.tif',\n",
       " 'https://data.geo.admin.ch/ch.swisstopo.pixelkarte-farbe-pk50.noscale/swiss-map-raster50_2016_273/swiss-map-raster50_2016_273_krel_2.5_2056.tif',\n",
       " 'https://data.geo.admin.ch/ch.swisstopo.pixelkarte-farbe-pk50.noscale/swiss-map-raster50_2017_222/swiss-map-raster50_2017_222_krel_2.5_2056.tif',\n",
       " 'https://data.geo.admin.ch/ch.swisstopo.pixelkarte-farbe-pk50.noscale/swiss-map-raster50_2018_223/swiss-map-raster50_2018_223_krel_2.5_2056.tif',\n",
       " 'https://data.geo.admin.ch/ch.swisstopo.pixelkarte-farbe-pk50.noscale/swiss-map-raster50_2018_232/swiss-map-raster50_2018_232_krel_2.5_2056.tif',\n",
       " 'https://data.geo.admin.ch/ch.swisstopo.pixelkarte-farbe-pk50.noscale/swiss-map-raster50_2018_233/swiss-map-raster50_2018_233_krel_2.5_2056.tif',\n",
       " 'https://data.geo.admin.ch/ch.swisstopo.pixelkarte-farbe-pk50.noscale/swiss-map-raster50_2018_264/swiss-map-raster50_2018_264_krel_2.5_2056.tif',\n",
       " 'https://data.geo.admin.ch/ch.swisstopo.pixelkarte-farbe-pk50.noscale/swiss-map-raster50_2018_265/swiss-map-raster50_2018_265_krel_2.5_2056.tif']"
      ]
     },
     "execution_count": 36,
     "metadata": {},
     "output_type": "execute_result"
    }
   ],
   "source": [
    "urls = stac.getUrlList(df_daten_kantone)\n",
    "urls"
   ]
  },
  {
   "cell_type": "code",
   "execution_count": null,
   "metadata": {},
   "outputs": [],
   "source": []
  }
 ],
 "metadata": {
  "kernelspec": {
   "display_name": "GeoPython",
   "language": "python",
   "name": "geopython"
  },
  "language_info": {
   "codemirror_mode": {
    "name": "ipython",
    "version": 3
   },
   "file_extension": ".py",
   "mimetype": "text/x-python",
   "name": "python",
   "nbconvert_exporter": "python",
   "pygments_lexer": "ipython3",
   "version": "3.7.7"
  }
 },
 "nbformat": 4,
 "nbformat_minor": 4
}
